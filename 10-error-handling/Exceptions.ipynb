{
 "cells": [
  {
   "cell_type": "markdown",
   "metadata": {},
   "source": [
    "# Exceptions\n",
    "\n",
    "We've learned a lot about programming principles, but so far we've assumed that our users are smart - ie users will always enter the correct input. This is not a reasonable assumption. When writing programs in the real world we need to be able to handle user error - or at least indicate that an error has occurred. In Java we represent errors using __exceptions__. An exception is an object that represents some kind of error.\n",
    "\\subsection{Exception Handling}\n",
    "An exception is __thrown__ when an error occurs. For example, when you try to call a method on a Null object a `NullPointerException` is thrown. We handle exceptions using try/catch/finally blocks. \n",
    "- A try block encases the code that may cause an exception. \n",
    "- A catch block must be associated with a try block and is triggered when an exception of the indicated type is thrown. A catch block encases the code that should be run if an exception is thrown (usually this would correct the error or print a detailed output). There may be multiple catch blocks for one try block - ie if you run the risk of throwing multiple exceptions that must be handled differently. \n",
    "- A finally block is optional and encases code that must be executed whether or not an exception was thrown in the try catch block. \n",
    "\n",
    "```Java\n",
    "try {\n",
    "    // some code that may throw an exception\n",
    "}\n",
    "catch(/* some specific exception */) {\n",
    "    // code to handle the exception\n",
    "}\n",
    "catch(/* some other exception */) {\n",
    "    \n",
    "}\n",
    "// ... as many catch blocks as required\n",
    "finally { // optional \n",
    "    // code to execute whether or not exception occurs \n",
    "}\n",
    "```"
   ]
  },
  {
   "cell_type": "code",
   "execution_count": 8,
   "metadata": {},
   "outputs": [
    {
     "name": "stdout",
     "output_type": "stream",
     "text": [
      "Enter an integer: 1.0\n",
      "Caught the exception\n"
     ]
    }
   ],
   "source": [
    "import java.util.Scanner;\n",
    "\n",
    "String userInput = \"1.0\";\n",
    "Scanner in = new Scanner(userInput);\n",
    "int input;\n",
    "try {\n",
    "    System.out.printf(\"Enter an integer: %s\", userInput);\n",
    "    input = kb.nextInt();\n",
    "} catch(Exception e) {\n",
    "    System.out.println(\"\\nCaught the exception\");\n",
    "}"
   ]
  },
  {
   "cell_type": "code",
   "execution_count": 1,
   "metadata": {},
   "outputs": [
    {
     "name": "stdout",
     "output_type": "stream",
     "text": [
      "Enter an integer: 1.0\n",
      "Caught the exception\n",
      "Enter an integer: 1"
     ]
    }
   ],
   "source": [
    "import java.util.Scanner;\n",
    "\n",
    "String userInput = \"1.0\";\n",
    "Scanner in = new Scanner(userInput); // use new Scanner(System.in) when running yourself\n",
    "int input;\n",
    "boolean exceptionThrown = false;\n",
    "do {\n",
    "    try {\n",
    "        exceptionThrown = false;\n",
    "        System.out.printf(\"Enter an integer: %s\", userInput);\n",
    "        input = in.nextInt();\n",
    "    } catch(Exception e) {\n",
    "        System.out.println(\"\\nCaught the exception\");\n",
    "        userInput = \"1\"; // IGNORE - for demo purposes\n",
    "        exceptionThrown = true;\n",
    "        in = new Scanner(userInput);\n",
    "    }\n",
    "} while (exceptionThrown);\n"
   ]
  },
  {
   "cell_type": "code",
   "execution_count": null,
   "metadata": {},
   "outputs": [],
   "source": []
  }
 ],
 "metadata": {
  "kernelspec": {
   "display_name": "Java",
   "language": "java",
   "name": "java"
  },
  "language_info": {
   "codemirror_mode": "java",
   "file_extension": ".java",
   "mimetype": "text/x-java-source",
   "name": "Java",
   "pygments_lexer": "java",
   "version": "9.0.1+11"
  }
 },
 "nbformat": 4,
 "nbformat_minor": 2
}

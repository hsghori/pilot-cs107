{
 "cells": [
  {
   "cell_type": "markdown",
   "metadata": {},
   "source": [
    "# Loops and Variable Scope"
   ]
  },
  {
   "cell_type": "markdown",
   "metadata": {},
   "source": [
    "## Loops\n",
    "\n",
    "One of the major benefits of a computer is its ability to quickly\n",
    "complete repetitive tasks. Programming languages like Java have built in\n",
    "structures called loops which we can use to condense repetitive\n",
    "statements.\n",
    "\n",
    "### For Loops\n",
    "\n",
    "For loops are the most straight forward and intuitive type of loop. A\n",
    "for loop is defined in three stages:\n",
    "1.  initialization: define a variable (var) to a specific value.\n",
    "2.  ending condition: define a condition (typically based on the value\n",
    "    of var) for which you want the loop to continue.\n",
    "3.  assignment: define how var changes for each iteration of the loop."
   ]
  },
  {
   "cell_type": "code",
   "execution_count": 1,
   "metadata": {},
   "outputs": [
    {
     "name": "stdout",
     "output_type": "stream",
     "text": [
      "0\n",
      "1\n",
      "2\n",
      "3\n",
      "4\n",
      "5\n",
      "6\n",
      "7\n",
      "8\n",
      "9\n"
     ]
    }
   ],
   "source": [
    "for (int i = 0; i < 10; i++) {\n",
    "    System.out.println(i);\n",
    "}"
   ]
  },
  {
   "cell_type": "markdown",
   "metadata": {},
   "source": [
    "In this example, \n",
    "1. the variable i is initialized to 0, \n",
    "2. the for loop will continue so long as i \\< 10, \n",
    "3. at the end of each iteration of the loop i will be incrimented by one."
   ]
  },
  {
   "cell_type": "markdown",
   "metadata": {},
   "source": [
    "For loops can have a variety of variables, conditions, and assignments. For example, this loop uses a multiplicative assignment statement:"
   ]
  },
  {
   "cell_type": "code",
   "execution_count": 2,
   "metadata": {},
   "outputs": [
    {
     "name": "stdout",
     "output_type": "stream",
     "text": [
      "1\n",
      "2\n",
      "4\n",
      "8\n",
      "16\n",
      "32\n",
      "64\n",
      "128\n",
      "256\n",
      "512\n",
      "1024\n",
      "2048\n"
     ]
    }
   ],
   "source": [
    "for (int j = 1; j <= 2048; j*=2) {\n",
    "    System.out.println(j);\n",
    "}"
   ]
  },
  {
   "cell_type": "markdown",
   "metadata": {},
   "source": [
    "We typically use a for loop when we know exactly how many times a loop\n",
    "should run or we know the exact range over which we need to loop. "
   ]
  },
  {
   "cell_type": "markdown",
   "metadata": {},
   "source": [
    "### While Loops\n",
    "\n",
    "The while loop is the most general type of loop. A while loop keeps\n",
    "executing the loop body so long as a boolean condition is satisfied."
   ]
  },
  {
   "cell_type": "code",
   "execution_count": 5,
   "metadata": {},
   "outputs": [
    {
     "name": "stdout",
     "output_type": "stream",
     "text": [
      "While loop - continues until di rolls a 3.\n",
      "6 2 6 1 1 4 1 1 5 4 2 5 4 6 1 4 1 1 3 "
     ]
    }
   ],
   "source": [
    "Random gen = new Random();\n",
    "System.out.println(\"While loop - continues until di rolls a 3.\");\n",
    "int roll = -1; // simulate rolling a 6 sided di\n",
    "while (roll != 3) {\n",
    "    roll = gen.nextInt(6) + 1; \n",
    "    System.out.printf(\"%d \", roll);\n",
    "}"
   ]
  },
  {
   "cell_type": "markdown",
   "metadata": {},
   "source": [
    "In this example, `gen.nextInt(6) + 1` simulates rolling a 6 sided di. The while loop is set to continue while the di roll is not equal to 3. Since this is a random process (we cannot know when `roll` will equal 3), this behavior can't can't be easily replicated by iterating over some range of values (ie we can't easily adapt a for loop to this situation). \\\n",
    "In general we use a while loop when we don't know exactly how many times\n",
    "the loop will run."
   ]
  },
  {
   "cell_type": "markdown",
   "metadata": {},
   "source": [
    "### Do-While Loops\n",
    "\n",
    "A do-while loop is almost exactly like a while loop except the loop body\n",
    "is executed before the condition is checked. This means that the body\n",
    "will always be executed at least once."
   ]
  },
  {
   "cell_type": "code",
   "execution_count": 13,
   "metadata": {},
   "outputs": [
    {
     "name": "stdout",
     "output_type": "stream",
     "text": [
      "Welcome to my do-while example\n",
      "a\n",
      "c\n",
      "d\n",
      "f\n",
      "g\n",
      "i\n",
      "k\n",
      "m\n",
      "o\n",
      "q\n"
     ]
    }
   ],
   "source": [
    "String data = \"a c d f g i k m o q\";\n",
    "System.setIn(new ByteArrayInputStream(data.getBytes()));\n",
    "\n",
    "System.out.println(\"Welcome to my do-while example\");\n",
    "Scanner kb = new Scanner(System.in);\n",
    "String choice;\n",
    "do {\n",
    "     choice = kb.next();\n",
    "     System.out.println(choice);\n",
    "} while (!choice.equals(\"q\"));"
   ]
  },
  {
   "cell_type": "markdown",
   "metadata": {},
   "source": [
    "The loop above will continue until the user inputs the string \"q\". Note that we always want the user to see the \"Press q to print\" prompt at least once - this is accomplished by the do-while loop. (You may be thinking \"I can do that with a while loop too\", and you would be right. This syntax lets us write this behavior a more cleanly, but as we'll see below you can accomplish the same thing with a while loop). "
   ]
  },
  {
   "cell_type": "markdown",
   "metadata": {},
   "source": [
    "### Loop Equivalence\n",
    "\n",
    "For and do-whlie loops are, theoretically, convenient syntax for a\n",
    "special case of a while loop. That means that any for or do-while loop\n",
    "can be written as a while loop. However, not every while loop can be\n",
    "rewritten as a for or do-while loop."
   ]
  },
  {
   "cell_type": "markdown",
   "metadata": {},
   "source": [
    "**Equivalent for and while loops.**"
   ]
  },
  {
   "cell_type": "code",
   "execution_count": 15,
   "metadata": {},
   "outputs": [
    {
     "name": "stdout",
     "output_type": "stream",
     "text": [
      "Equivalent for and while loops.\n",
      "0 1 2 3 4 5 6 7 8 9 \n",
      "0 1 2 3 4 5 6 7 8 9 \n"
     ]
    }
   ],
   "source": [
    "for (int i = 0; i < 10; i++) {\n",
    "    System.out.printf(\"%d \", i);\n",
    "}\n",
    "System.out.println();\n",
    "\n",
    "int count = 0;\n",
    "while (count < 10) {\n",
    "    System.out.printf(\"%d \", count);\n",
    "    count++;\n",
    "}\n",
    "System.out.println();"
   ]
  },
  {
   "cell_type": "markdown",
   "metadata": {},
   "source": [
    "**Equivalent do-while and while loops.**"
   ]
  },
  {
   "cell_type": "code",
   "execution_count": 17,
   "metadata": {},
   "outputs": [
    {
     "name": "stdout",
     "output_type": "stream",
     "text": [
      "1 1 4 4 2 6 5 6 3 \n",
      "2 6 3 "
     ]
    }
   ],
   "source": [
    "int rollThree = 0;\n",
    "do {\n",
    "    rollThree = gen.nextInt(6) + 1;\n",
    "    System.out.printf(\"%d \", rollThree);\n",
    "} while (rollThree != 3);\n",
    "System.out.println();\n",
    "\n",
    "int rollFour = 0;\n",
    "while (rollFour != 3) {\n",
    "    rollFour = gen.nextInt(6) + 1;\n",
    "    System.out.printf(\"%d \", rollFour);\n",
    "}"
   ]
  },
  {
   "cell_type": "markdown",
   "metadata": {},
   "source": [
    "### Nested Loops\n",
    "\n",
    "Loops can be nested within each other to create some complex (and very\n",
    "useful) results."
   ]
  },
  {
   "cell_type": "markdown",
   "metadata": {},
   "source": [
    "Example of a nested for loop. Prints a triangle."
   ]
  },
  {
   "cell_type": "code",
   "execution_count": 20,
   "metadata": {},
   "outputs": [
    {
     "name": "stdout",
     "output_type": "stream",
     "text": [
      "\n",
      "*\n",
      "**\n",
      "***\n",
      "****\n",
      "*****\n",
      "******\n",
      "*******\n",
      "********\n",
      "*********\n"
     ]
    }
   ],
   "source": [
    "for (int i = 0; i < 10; i++) {\n",
    "    for (int j = 0; j < i; j++) {\n",
    "    System.out.print(\"*\");  \n",
    "    }\n",
    "    System.out.println();\n",
    "}"
   ]
  },
  {
   "cell_type": "markdown",
   "metadata": {},
   "source": [
    "Example of nested for and while loops. Continues until average roll is less than 3."
   ]
  },
  {
   "cell_type": "code",
   "execution_count": 19,
   "metadata": {},
   "outputs": [
    {
     "name": "stdout",
     "output_type": "stream",
     "text": [
      "2.80 "
     ]
    }
   ],
   "source": [
    "double avgRoll = 6;\n",
    "final int numRolls = 10;\n",
    "while (avgRoll >= 3) {\n",
    "    int acumRoll = 0;\n",
    "    for (int i = 0; i < numRolls; i++) {\n",
    "        acumRoll += gen.nextInt(6) + 1;\n",
    "    }\n",
    "    avgRoll = acumRoll / (float) numRolls;\n",
    "    System.out.printf(\"%.2f \", avgRoll);\n",
    "}    "
   ]
  },
  {
   "cell_type": "markdown",
   "metadata": {},
   "source": [
    "## Scope\n",
    "\n",
    "When a varble is **declared** in Java it is given a certain **scope**. A\n",
    "variables scope is the region in which it is visible (or accessible). A\n",
    "variable is accessible in the block in which it is declared (including\n",
    "any sub-blocks), but nowhere else.\n",
    "\n",
    "```Java\n",
    "public class Scope {\n",
    "\n",
    "    public static void main(String[] args) {\n",
    "        int varOne; // varOne is declared in the main method scope\n",
    "        varOne = 10; // varOne is defined (different from begin declared)\n",
    "        if varOne > 1 {\n",
    "            System.out.println(varOne); // varOne is still in scope\n",
    "            varOne = 20;\n",
    "            int varTwo = 1;\n",
    "        }\n",
    "        System.out.println(varOne); // varOne is still in scope and its value has changed\n",
    "        System.out.println(varTwo); // throws a compiler error because varTwo is out of scope. \n",
    "    }\n",
    "}\n",
    "```"
   ]
  },
  {
   "cell_type": "code",
   "execution_count": 21,
   "metadata": {},
   "outputs": [
    {
     "ename": "CompilationException",
     "evalue": "",
     "output_type": "error",
     "traceback": [
      "\u001b[1m\u001b[30m|   \u001b[1m\u001b[30mSystem.out.println(\u001b[0m\u001b[1m\u001b[30m\u001b[41mvarTwo\u001b[0m\u001b[1m\u001b[30m);\u001b[0m",
      "\u001b[1m\u001b[31mcannot find symbol\u001b[0m",
      "\u001b[1m\u001b[31m  symbol:   variable varTwo\u001b[0m",
      ""
     ]
    }
   ],
   "source": [
    "int varOne = 10;\n",
    "if (varOne > 1) {\n",
    "    int varTwo = 2;\n",
    "}\n",
    "System.out.println(varTwo);"
   ]
  },
  {
   "cell_type": "code",
   "execution_count": null,
   "metadata": {},
   "outputs": [],
   "source": []
  }
 ],
 "metadata": {
  "kernelspec": {
   "display_name": "Java",
   "language": "java",
   "name": "java"
  },
  "language_info": {
   "codemirror_mode": "java",
   "file_extension": ".java",
   "mimetype": "text/x-java-source",
   "name": "Java",
   "pygments_lexer": "java",
   "version": "9.0.1+11"
  }
 },
 "nbformat": 4,
 "nbformat_minor": 2
}

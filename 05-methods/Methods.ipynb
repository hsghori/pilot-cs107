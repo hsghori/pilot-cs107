{
 "cells": [
  {
   "cell_type": "markdown",
   "metadata": {},
   "source": [
    "# Static Methods"
   ]
  },
  {
   "cell_type": "markdown",
   "metadata": {},
   "source": [
    "In java a method is a self contained piece of code that performs a\n",
    "specific task. \n",
    "\n",
    "For example, say we're writing a program that inputs a time and increment and outputs the ending time. We could write everything in the main method:"
   ]
  },
  {
   "cell_type": "code",
   "execution_count": 6,
   "metadata": {},
   "outputs": [
    {
     "name": "stdout",
     "output_type": "stream",
     "text": [
      "The final time is 14:15"
     ]
    }
   ],
   "source": [
    "import java.util.Scanner;\n",
    "\n",
    "public class TimeAddition {\n",
    "\n",
    "    public static void main(String[] args) {\n",
    "        Scanner kb = new Scanner(System.in);\n",
    "        String time = kb.nextLine();\n",
    "        String inc = kb.nextLine();\n",
    "        int timeHrs = Integer.parseInt(time.substring(0, 2));\n",
    "        int timeMns = Integer.parseInt(time.substring(3));\n",
    "        int incHrs = Integer.parseInt(inc.substring(0, 2));\n",
    "        int incMns = Integer.parseInt(inc.substring(3));\n",
    "        int finalMins = (timeMns + incMns) % 60;\n",
    "        int overflowHrs = (timeMns + incMns) / 60;\n",
    "        int finalHrs = (timeHrs + incHrs + overflowHrs) % 24;\n",
    "        System.out.printf(\"The final time is %d:%d\", finalHrs, finalMins);\n",
    "    }   \n",
    "}\n",
    "\n",
    "\n",
    "// simulates typing input\n",
    "String data = \"12:30\\n01:45\";\n",
    "System.setIn(new ByteArrayInputStream(data.getBytes()));\n",
    "\n",
    "String[] args = {};\n",
    "TimeAddition.main(args);"
   ]
  },
  {
   "cell_type": "markdown",
   "metadata": {},
   "source": [
    "But this can be a bit hard to read. And if we're writing a program that uses this kind of calculation a lot - for example, a calendar app or a stopwatch - copying and pasting this code everywhere can be tedious. Furthermore, if we wanted to alter this method (say to output time in 12hr format instead of 24hr format), we'd have to change every instance of this code in the main method.\n",
    "\n",
    "Instead, we can write a helper method that performs this calculation and call that method wherever we want to add a time increment to a current time."
   ]
  },
  {
   "cell_type": "code",
   "execution_count": 11,
   "metadata": {},
   "outputs": [
    {
     "name": "stdout",
     "output_type": "stream",
     "text": [
      "The final time is 14:15"
     ]
    }
   ],
   "source": [
    "public class TimeAddition {\n",
    "\n",
    "    public static void main(String[] args) {\n",
    "        Scanner kb = new Scanner(System.in);\n",
    "        String userTime = kb.nextLine();\n",
    "        String userInc = kb.nextLine();\n",
    "        String finalTime = computeTimeAddition(userTime, userInc); // method call\n",
    "        System.out.printf(\"The final time is %s\", finalTime);\n",
    "    }\n",
    "\n",
    "    public static String computeTimeAddition(String time, String inc) {\n",
    "        int timeHrs = Integer.parseInt(time.substring(0, 2));\n",
    "        int timeMns = Integer.parseInt(time.substring(3));\n",
    "        int incHrs = Integer.parseInt(inc.substring(0, 2));\n",
    "        int incMns = Integer.parseInt(inc.substring(3));\n",
    "        int finalMins = (timeMns + incMns) % 60;\n",
    "        int overflowHrs = (timeMns + incMns) / 60;\n",
    "        int finalHrs = (timeHrs + incHrs + overflowHrs) % 24;\n",
    "        return String.format(\"%d:%d\", finalHrs, finalMins);\n",
    "    }\n",
    "}\n",
    "\n",
    "// simulates typing input\n",
    "String data = \"12:30\\n01:45\";\n",
    "System.setIn(new ByteArrayInputStream(data.getBytes()));\n",
    "\n",
    "String[] args = {};\n",
    "TimeAddition.main(args);"
   ]
  },
  {
   "cell_type": "markdown",
   "metadata": {},
   "source": [
    "-   This is a lot easier to read than the first piece of code. It's much easier to follow what the main method is trying to accomplish (especially if we use descriptive method names).\n",
    "-   Any methods defined in the **same class** automatically recognize each other. Notice how in the main method I can just call `computeTimeAddition`. This is not true when a method is described in a different class.\n",
    "-   We can now reuse `computeTimeAddition` anywhere else in this program. And if we want to modify the functionality we just need to modify one code block instead of many."
   ]
  },
  {
   "cell_type": "markdown",
   "metadata": {},
   "source": [
    "Any method in Java is defined in the following way:\n",
    "\n",
    "```\n",
    "<public / private / protected> <static (optional)> <return type> <method name>(<parameters>) {\n",
    "    // statements\n",
    "    return <value>;\n",
    "}\n",
    "```\n",
    "\n",
    "-   `<public / private / protected>` : Defines which external classes\n",
    "    can see this method. Use public for now.\n",
    "-   `<static>` : Don't worry about this for a bit. All your methods will\n",
    "    be static for now.\n",
    "-   `<return type>` : The type (int, double, String, etc) of value this\n",
    "    method will return to the caller when the method finishes its task.\n",
    "    If the method doesn't return anything (ie it just prints or reads\n",
    "    file input or something like that) its return type is `void`.\n",
    "-   `<method name>` : The name of the method. This should be a\n",
    "    reasonably descriptive name and should be formatted in camel-case.\n",
    "-   `<parameters>` : Declarations of variables that this method will\n",
    "    take as input. Note that these should be reasonably descriptive\n",
    "    names. The names of the variables don't need to match the names of\n",
    "    the variables being passed to the method by the caller. If the\n",
    "    method takes no parameters this can be left blank."
   ]
  },
  {
   "cell_type": "code",
   "execution_count": 12,
   "metadata": {},
   "outputs": [
    {
     "data": {
      "text/plain": [
       "-1.0"
      ]
     },
     "execution_count": 12,
     "metadata": {},
     "output_type": "execute_result"
    }
   ],
   "source": [
    "public static double findMin(double x, double y, double z) { \n",
    "    double minXandY = Math.min(x, y);\n",
    "    return Math.min(z, minXandY);\n",
    "}\n",
    "\n",
    "findMin(-1, 10, 4);"
   ]
  },
  {
   "cell_type": "markdown",
   "metadata": {},
   "source": [
    "This method:\n",
    "-   is `public` and `static`.\n",
    "-   returns a value of type `double` to the caller.\n",
    "-   is named findMin.\n",
    "-   takes three doubles as arguments / parameters."
   ]
  },
  {
   "cell_type": "markdown",
   "metadata": {},
   "source": [
    "If I want to find the minimum of three doubles in the main method then I can use:"
   ]
  },
  {
   "cell_type": "code",
   "execution_count": 13,
   "metadata": {},
   "outputs": [
    {
     "name": "stdout",
     "output_type": "stream",
     "text": [
      "The minimum is -5.0\n"
     ]
    }
   ],
   "source": [
    "public class MethodExample {\n",
    "    \n",
    "    public static void main(String[] args) {\n",
    "        Scanner kb = new Scanner(System.in);\n",
    "        double valOne = kb.nextDouble();\n",
    "        double valTwo = kb.nextDouble();\n",
    "        double valThree = kb.nextDouble();\n",
    "        double min = findMin(valOne, valTwo, valThree);\n",
    "        System.out.println(\"The minimum is \" + min);\n",
    "    }\n",
    "\n",
    "    public static double findMin(double x, double y, double z) { \n",
    "        double minXandY = Math.min(x, y);\n",
    "        return Math.min(z, minXandY);\n",
    "    }\n",
    "}\n",
    "\n",
    "// simulates typing input\n",
    "String data = \"1.0 3.0 -5.0\";\n",
    "System.setIn(new ByteArrayInputStream(data.getBytes()));\n",
    "\n",
    "String[] args = {};\n",
    "MethodExample.main(args);"
   ]
  },
  {
   "cell_type": "markdown",
   "metadata": {},
   "source": [
    "Not all methods need to take parameters:"
   ]
  },
  {
   "cell_type": "code",
   "execution_count": 14,
   "metadata": {},
   "outputs": [
    {
     "data": {
      "text/plain": [
       "4"
      ]
     },
     "execution_count": 14,
     "metadata": {},
     "output_type": "execute_result"
    }
   ],
   "source": [
    "public static int rollDi() {\n",
    "    Random rand = new Random();\n",
    "    return rand.nextInt(6) + 1;\n",
    "}\n",
    "\n",
    "rollDi();"
   ]
  },
  {
   "cell_type": "markdown",
   "metadata": {},
   "source": [
    "And methods don't need to return anything (in this case they return void):"
   ]
  },
  {
   "cell_type": "code",
   "execution_count": 17,
   "metadata": {},
   "outputs": [
    {
     "name": "stdout",
     "output_type": "stream",
     "text": [
      "Tails!\n"
     ]
    }
   ],
   "source": [
    "public static void flipCoin() {\n",
    "    Random rand = new Random();\n",
    "    int flip = rand.nextInt(2);\n",
    "    if (flip == 1) {\n",
    "        System.out.println(\"Heads!\");\n",
    "    }\n",
    "    else {\n",
    "        System.out.println(\"Tails!\");\n",
    "    }\n",
    "}\n",
    "\n",
    "flipCoin();"
   ]
  },
  {
   "cell_type": "markdown",
   "metadata": {},
   "source": [
    "When the `return` keyword is called, the method ends and returns the\n",
    "value after the `return`. We can use this in behavior to eliminate some\n",
    "else statements."
   ]
  },
  {
   "cell_type": "code",
   "execution_count": 18,
   "metadata": {},
   "outputs": [
    {
     "name": "stdout",
     "output_type": "stream",
     "text": [
      "Heads!\n"
     ]
    }
   ],
   "source": [
    "public static void flipCoin() {\n",
    "    Random rand = new Random();\n",
    "    int flip = rand.nextInt(2);\n",
    "    if (flip == 1) {\n",
    "        System.out.println(\"Heads!\");\n",
    "        return;\n",
    "    }\n",
    "    System.out.println(\"Tails!\");\n",
    "}\n",
    "\n",
    "flipCoin();"
   ]
  },
  {
   "cell_type": "markdown",
   "metadata": {},
   "source": [
    "## Pass by Reference-Value\n",
    "\n",
    "When I pass a primitive or String variable to a method in Java, the\n",
    "variable itself isn't sent to the method. The value in the variable is\n",
    "copied into a new variable which has scope of the method. So if I change\n",
    "a primitive or String variable in an external method it doesn't affect\n",
    "the value of the corresponding variable in the caller method."
   ]
  },
  {
   "cell_type": "code",
   "execution_count": 22,
   "metadata": {},
   "outputs": [
    {
     "name": "stdout",
     "output_type": "stream",
     "text": [
      "x: 10, inc: 5\n",
      "x: 10, inc: 5\n"
     ]
    },
    {
     "data": {
      "text/plain": [
       "java.io.PrintStream@5606c0b"
      ]
     },
     "execution_count": 22,
     "metadata": {},
     "output_type": "execute_result"
    }
   ],
   "source": [
    "public static void add(int x, int inc) {\n",
    "    x += inc;\n",
    "}\n",
    "\n",
    "int x = 10;\n",
    "int inc = 5;\n",
    "System.out.printf(\"x: %d, inc: %d\\n\", x, inc);\n",
    "add(x, inc);\n",
    "System.out.printf(\"x: %d, inc: %d\\n\", x, inc);"
   ]
  },
  {
   "cell_type": "markdown",
   "metadata": {},
   "source": [
    "Note that the value of x does not change. This is because:\n",
    "1.  Two variables, x and inc were declared and defined in the main\n",
    "    method. We will refer to these as x_main and inc_main.\n",
    "2.  We print the values of x_main and inc_main.\n",
    "3.  We call `add` on x_main and inc_main.\n",
    "    1.  The value in x_main is copied and sent to a new place in\n",
    "        memory. A new variable (also called x) which we will refer to as\n",
    "        x_add is declared and defined to be equal to the value of\n",
    "        x_main.\n",
    "    2.  The value in inc_main is copied and sent to a new place in\n",
    "        memory. A new variable (also called x) which we will refer to as\n",
    "        inc_add is declared and defined to be equal to the value of\n",
    "        inc_main.\n",
    "    3.  x_add is set equal to x + inc_add.\n",
    "4.  We call add on x_main and inc_main.\n",
    "\n",
    "Observe how even though the main method AND the add method have\n",
    "variables called x and inc, those variables are not linked. Changing the\n",
    "x in add does not affect the value of the x in main."
   ]
  },
  {
   "cell_type": "markdown",
   "metadata": {},
   "source": [
    "## Javadoc Comments\n",
    "\n",
    "Javadoc comments are special comments that are used to auto-generate\n",
    "documentation for your code. Every class, method, and \\\"member\n",
    "variable\\\" (ignore that last one for now) must have a javadoc comment -\n",
    "and they must be formatted in a very specific way. The javadoc comment\n",
    "for a method takes the form\n",
    "\n",
    "```Java\n",
    "/**\n",
    " <First sentence giving a general description of what the method does - this must end with a period \".\">\n",
    " <Any number of more descriptive sentences>\n",
    " @param <name of parameter 1> <description of parameter 1>\n",
    " @param <name of parameter 2> <description of parameter 2>\n",
    " <... do for all parameters>\n",
    " @return <description of what the method returns. Don't do this for void methods>\n",
    " */\n",
    "```\n",
    "\n",
    "For example, our time addition method from above could have the javadoc\n",
    "comment:"
   ]
  },
  {
   "cell_type": "code",
   "execution_count": 23,
   "metadata": {},
   "outputs": [],
   "source": [
    "/**\n",
    " * Adds a time increment to a given 12hr clock time. \n",
    " * @param time the string representing the user entered time\n",
    " * @param inc the string representing the increment to be added to time\n",
    " * @return A string representing time + inc in 12hr time\n",
    " */ \n",
    "public static String computeTimeAddition(String time, String inc) {\n",
    "    int timeHrs = Integer.parseInt(time.substring(0, 2));\n",
    "    int timeMns = Integer.parseInt(time.substring(3));\n",
    "    int incHrs = Integer.parseInt(inc.substring(0, 2));\n",
    "    int incMns = Integer.parseInt(inc.substring(3));\n",
    "    int finalMins = (timeMns + incMns) % 60;\n",
    "    int overflowHrs = (timeMns + incMns) / 60;\n",
    "    int finalHrs = (timeHrs + incHrs + overflowHrs) % 24;\n",
    "    return String.format(\"%d:%d\", finalHrs, finalMins);\n",
    "}"
   ]
  },
  {
   "cell_type": "markdown",
   "metadata": {},
   "source": [
    "When you use javadocs properly, you can generate documentation that looks like the [official java docs](https://docs.oracle.com/javase/7/docs/api/java/lang/String.html). "
   ]
  },
  {
   "cell_type": "code",
   "execution_count": null,
   "metadata": {},
   "outputs": [],
   "source": []
  }
 ],
 "metadata": {
  "kernelspec": {
   "display_name": "Java",
   "language": "java",
   "name": "java"
  },
  "language_info": {
   "codemirror_mode": "java",
   "file_extension": ".java",
   "mimetype": "text/x-java-source",
   "name": "Java",
   "pygments_lexer": "java",
   "version": "9.0.1+11"
  }
 },
 "nbformat": 4,
 "nbformat_minor": 2
}

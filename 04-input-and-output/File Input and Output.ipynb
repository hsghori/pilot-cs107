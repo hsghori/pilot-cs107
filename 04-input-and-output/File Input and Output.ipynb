{
 "cells": [
  {
   "cell_type": "markdown",
   "metadata": {},
   "source": [
    "# File IO"
   ]
  },
  {
   "cell_type": "markdown",
   "metadata": {},
   "source": [
    "We often want to read data from a file and / or write data to a file. To\n",
    "read data from a file we use the Scanner and FileReader classes. We\n",
    "declare the Scanner similarly to how we declare a Scanner to read from\n",
    "the keyboard"
   ]
  },
  {
   "cell_type": "code",
   "execution_count": 3,
   "metadata": {},
   "outputs": [],
   "source": [
    "import java.util.Scanner;\n",
    "import java.io.FileReader;\n",
    "import java.io.IOException;\n",
    "\n",
    "public class IOExample {\n",
    "    \n",
    "    public static void main(String[] args) throws IOException {\n",
    "        Scanner inFile = new Scanner(new FileReader(\"input.txt\"));\n",
    "        // read from the file using next(), nextLine(), nextDouble(), nextInt(), etc.\n",
    "        inFile.close(); // not strictly necessary when reading from the file\n",
    "    }\n",
    "}\n",
    "\n",
    "String[] args = {};\n",
    "IOExample.main(args);"
   ]
  },
  {
   "cell_type": "markdown",
   "metadata": {},
   "source": [
    "In this case `input.txt` is the name of the file we want to open. We can now treat `inFile` the same way as we treated the Scanners that were reading input from the keyboard. We can call `inFile.next()`, `inFile.nextLine()`, `inFile.nextInt()`, and `inFile.nextDouble()` and expect the same kind of behavior as if we were reading input from the keyboard.  \n",
    "\n",
    "__Note__ that we need to write `throws IOException` to let the compiler know that the method may raise an error (specifically an IOException) if the input file is not found / cannot be read. See the notes on exceptions for more details.\n",
    "\n",
    "There are also a couple of methods that we can use to determine how long to read a file:\n",
    "- `inFile.hasNext()` : returns true if there is a next word in the file\n",
    "- `inFile.hasNextLine()` : returns true if there is a next line in the file\n",
    "- `inFile.hasNextInt()` : returns true if the next element in the file is an int\n",
    "- `inFile.hasNextDouble()` : returns true if the next element in the file is a double\n",
    "\n",
    "Using these methods I can read from a file line by line, word by word, etc. "
   ]
  },
  {
   "cell_type": "code",
   "execution_count": 9,
   "metadata": {},
   "outputs": [
    {
     "name": "stdout",
     "output_type": "stream",
     "text": [
      "1\n",
      "4\n",
      "239\n",
      "9230\n",
      "hello\n",
      "23\n"
     ]
    }
   ],
   "source": [
    "Scanner inFile = new Scanner(new FileReader(\"input.txt\"));\n",
    "while (inFile.hasNext()) {\n",
    "    System.out.println(inFile.next());\n",
    "}\n",
    "inFile.close();"
   ]
  },
  {
   "cell_type": "markdown",
   "metadata": {},
   "source": [
    "Writing to a `PrintWriter` is very similar to printing to the screen - in fact `PrintWriter` has the same methods as `System.out` so you can call `outfile.print()`, `outfile.println()`, or `outfile.printf()` the same way you'd call `System.out.print()`, `System.out.println()`, or `System.out.printf()`. When you're done writing to an output file you have to call `close()` on the PrintWriter - otherwise the file may not save. \n",
    "\n",
    "For example if I wanted to write a bunch of integers to a file:"
   ]
  },
  {
   "cell_type": "code",
   "execution_count": 12,
   "metadata": {},
   "outputs": [],
   "source": [
    "PrintWriter outFile = new PrintWriter(new FileWriter(\"output.txt\"));\n",
    "Random gen = new Random();\n",
    "for (int i = 0; i < 10; i++) {\n",
    "    outFile.printf(\"%d\\n\", gen.nextInt(20) - 10);\n",
    "}\n",
    "outFile.close();"
   ]
  },
  {
   "cell_type": "code",
   "execution_count": 13,
   "metadata": {},
   "outputs": [
    {
     "name": "stdout",
     "output_type": "stream",
     "text": [
      "-9\n",
      "-3\n",
      "8\n",
      "3\n",
      "7\n",
      "-10\n",
      "0\n",
      "-9\n",
      "5\n",
      "2\n"
     ]
    }
   ],
   "source": [
    "// print out the contents of output.txt\n",
    "Scanner inFile = new Scanner(new FileReader(\"output.txt\"));\n",
    "while (inFile.hasNextLine()) {\n",
    "    System.out.println(inFile.nextLine());\n",
    "}\n",
    "inFile.close(); "
   ]
  },
  {
   "cell_type": "code",
   "execution_count": null,
   "metadata": {},
   "outputs": [],
   "source": []
  }
 ],
 "metadata": {
  "kernelspec": {
   "display_name": "Java",
   "language": "java",
   "name": "java"
  },
  "language_info": {
   "codemirror_mode": "java",
   "file_extension": ".java",
   "mimetype": "text/x-java-source",
   "name": "Java",
   "pygments_lexer": "java",
   "version": "9.0.1+11"
  }
 },
 "nbformat": 4,
 "nbformat_minor": 2
}

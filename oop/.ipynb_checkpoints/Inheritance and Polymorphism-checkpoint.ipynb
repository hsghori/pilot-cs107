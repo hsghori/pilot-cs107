{
 "cells": [
  {
   "cell_type": "markdown",
   "metadata": {
    "slideshow": {
     "slide_type": "slide"
    }
   },
   "source": [
    "# Inheritance and Polymorphism\n",
    "\n",
    "## Extending Classes (Inheritance)\n",
    "\n",
    "Creating our own Objects can be very useful - but what if we want to create related Objects? For example, what if we've written a Cake object and now we want to create a BrithdayCake object. The BirthdayCake should be very similar to the Cake but with slight alterations. Java allows us to take advantage of these relationships by \"extending\" classes. If ClassB \"extends\" or \"inherits from\" ClassA, ClassB is said to be a child class of ClassA. ClassB has all of the member variables and methods of ClassA and ClassB can define additional member variables and methods."
   ]
  },
  {
   "cell_type": "code",
   "execution_count": 2,
   "metadata": {
    "slideshow": {
     "slide_type": "slide"
    }
   },
   "outputs": [],
   "source": [
    "public class Cake {\n",
    "\n",
    "    private boolean isBaked;\n",
    "    \n",
    "    public Cake() {\n",
    "        this.isBaked = false;\n",
    "    }\n",
    "\n",
    "    public boolean isBaked() {\n",
    "        return this.isBaked;\n",
    "    }\n",
    "    \n",
    "    public void bake() {\n",
    "        this.isBaked = true;\n",
    "        System.out.println(\"The cake is baking\");\n",
    "    }\n",
    "\n",
    "    public void frost() {\n",
    "        if (!this.isBaked) {\n",
    "            System.out.println(\"You can't frost a raw cake.\");\n",
    "        }\n",
    "        else {\n",
    "            System.out.println(\"The cake now has frosting.\");\n",
    "        }\n",
    "    }\n",
    "    \n",
    "    public String toString() { return \"This is a Cake!\"; }\n",
    "}"
   ]
  },
  {
   "cell_type": "markdown",
   "metadata": {
    "slideshow": {
     "slide_type": "slide"
    }
   },
   "source": [
    "A BirthdayCake should be able to do evrything a Cake can do (a BirthdayCake should also be able to bake and frost), but we should also be able to put candles on a BirthdayCake. We can thus make BirthdayCake a child of Cake and add a new method which adds candles to the BirthdayCake. "
   ]
  },
  {
   "cell_type": "code",
   "execution_count": 3,
   "metadata": {
    "slideshow": {
     "slide_type": "fragment"
    }
   },
   "outputs": [],
   "source": [
    " public class BirthdayCake extends Cake {\n",
    "\n",
    "    private int candles;\n",
    "\n",
    "    public BirthdayCake() {\n",
    "        super(); // this calls the constructor for Cake\n",
    "        this.candles = 0;\n",
    "    }\n",
    "\n",
    "    public void putCandlesOnCake(int numberOfCandles) {\n",
    "        this.candles += numberOfCandles;\n",
    "        System.out.println(\"Putting \" + numberOfCandles + \" candles on the birthday cake.\");\n",
    "    }\n",
    "     \n",
    "    public String toString() { return \"This is a Birthday Cake!\"; }\n",
    "}"
   ]
  },
  {
   "cell_type": "markdown",
   "metadata": {
    "slideshow": {
     "slide_type": "slide"
    }
   },
   "source": [
    "Now we can create Cake object on which we can call bake and frost and a BirthdayCake object on which we can call `bake`, `frost`, and `putCandlesOnCake`. Note that we cannot call `putCandlesOnCake` on a Cake object since that method is only defined for BirthdayCake. "
   ]
  },
  {
   "cell_type": "code",
   "execution_count": 4,
   "metadata": {
    "slideshow": {
     "slide_type": "fragment"
    }
   },
   "outputs": [
    {
     "name": "stdout",
     "output_type": "stream",
     "text": [
      "The cake is baking\n",
      "The cake is baking\n",
      "The cake now has frosting.\n",
      "The cake now has frosting.\n",
      "Putting 1 candles on the birthday cake.\n"
     ]
    }
   ],
   "source": [
    "Cake cake = new Cake();\n",
    "BirthdayCake bCake = new BirthdayCake();\n",
    "\n",
    "cake.bake();\n",
    "bCake.bake();\n",
    "\n",
    "cake.frost();\n",
    "bCake.frost();\n",
    "\n",
    "bCake.putCandlesOnCake(1);"
   ]
  },
  {
   "cell_type": "code",
   "execution_count": 5,
   "metadata": {
    "slideshow": {
     "slide_type": "fragment"
    }
   },
   "outputs": [
    {
     "ename": "CompilationException",
     "evalue": "",
     "output_type": "error",
     "traceback": [
      "\u001b[1m\u001b[30m|   \u001b[1m\u001b[30m\u001b[0m\u001b[1m\u001b[30m\u001b[41mcake.putCandlesOnCake\u001b[0m\u001b[1m\u001b[30m(); \u001b[0m",
      "\u001b[1m\u001b[31mcannot find symbol\u001b[0m",
      "\u001b[1m\u001b[31m  symbol:   method putCandlesOnCake()\u001b[0m",
      ""
     ]
    }
   ],
   "source": [
    "cake.putCandlesOnCake(); "
   ]
  },
  {
   "cell_type": "markdown",
   "metadata": {
    "slideshow": {
     "slide_type": "slide"
    }
   },
   "source": [
    "## Properties of Inheritance\n",
    "\n",
    "In this example we would say that `Cake` is the base class and `BirthdayCake` is a subclass of `Cake`. \n",
    "- A variable of type `BirthdayCake` is also of type `Cake`. So we can create an array `Cake[] cakes;` and add `BirthdayCake` objects to it. Additionally `bCake instanceof Cake` returns `true`.\n",
    "- A variable of type `BirthdayCake` can be cast to `Cake`. You cannot cast a `Cake` to a `BirthdayCake`. \n",
    "- A variable of type `BirthdayCake` cannot use any private variables or methods in `Cake`. "
   ]
  },
  {
   "cell_type": "code",
   "execution_count": 7,
   "metadata": {
    "slideshow": {
     "slide_type": "subslide"
    }
   },
   "outputs": [
    {
     "name": "stdout",
     "output_type": "stream",
     "text": [
      "birthday cake instance of Cake? true\n",
      "cake instance of BirthdayCake? false\n"
     ]
    }
   ],
   "source": [
    "System.out.println(\"birthday cake instance of Cake? \" + (bCake instanceof Cake));\n",
    "System.out.println(\"cake instance of BirthdayCake? \" + (cake instanceof BirthdayCake));"
   ]
  },
  {
   "cell_type": "code",
   "execution_count": 39,
   "metadata": {
    "slideshow": {
     "slide_type": "subslide"
    }
   },
   "outputs": [
    {
     "name": "stdout",
     "output_type": "stream",
     "text": [
      "c instanceof BirthdayCake? true\n"
     ]
    }
   ],
   "source": [
    "Cake c = new BirthdayCake();\n",
    "System.out.println(\"c instanceof BirthdayCake? \" + (c instanceof BirthdayCake));"
   ]
  },
  {
   "cell_type": "markdown",
   "metadata": {
    "slideshow": {
     "slide_type": "fragment"
    }
   },
   "source": [
    "This cell evaluates to true because the object `c` \"knows\" it's a `BirthdayCake`. "
   ]
  },
  {
   "cell_type": "code",
   "execution_count": 40,
   "metadata": {},
   "outputs": [
    {
     "ename": "CompilationException",
     "evalue": "",
     "output_type": "error",
     "traceback": [
      "\u001b[1m\u001b[30m|   \u001b[1m\u001b[30m\u001b[0m\u001b[1m\u001b[30m\u001b[41mc.putCandlesOnCake\u001b[0m\u001b[1m\u001b[30m(10);\u001b[0m",
      "\u001b[1m\u001b[31mcannot find symbol\u001b[0m",
      "\u001b[1m\u001b[31m  symbol:   method putCandlesOnCake(int)\u001b[0m",
      ""
     ]
    }
   ],
   "source": [
    "c.putCandlesOnCake(10);"
   ]
  },
  {
   "cell_type": "code",
   "execution_count": 10,
   "metadata": {},
   "outputs": [
    {
     "ename": "CompilationException",
     "evalue": "",
     "output_type": "error",
     "traceback": [
      "\u001b[1m\u001b[30m|   \u001b[1m\u001b[30mtenthBirthday(\u001b[0m\u001b[1m\u001b[30m\u001b[41mc\u001b[0m\u001b[1m\u001b[30m);\u001b[0m",
      "\u001b[1m\u001b[31mincompatible types: Cake cannot be converted to BirthdayCake\u001b[0m",
      ""
     ]
    }
   ],
   "source": [
    "public static void tenthBirthday(BirthdayCake b) {\n",
    "    b.putCandlesOnCake(10);\n",
    "}\n",
    "\n",
    "tenthBirthday(c);"
   ]
  },
  {
   "cell_type": "code",
   "execution_count": 11,
   "metadata": {},
   "outputs": [
    {
     "name": "stdout",
     "output_type": "stream",
     "text": [
      "Putting 10 candles on the birthday cake.\n"
     ]
    }
   ],
   "source": [
    "tenthBirthday((BirthdayCake) c);"
   ]
  },
  {
   "cell_type": "markdown",
   "metadata": {},
   "source": [
    "### Method Resolution\n",
    "\n",
    "In Java there the object AND the compiler \"know\" the objects type, but sometimes the object and the compiler will disagree.  \n",
    "\n",
    "```Java\n",
    "Cake disguisedBithdayCake = new BirthdayCake();\n",
    "```\n",
    "\n",
    "Here `disguisedBirthdayCake` \"knows\" that it's a BirthdayCake (because its been defined as a BirthdayCake), However, the compiler thinks that `disguisedBirthdayCake` is a Cake (because its been declared as a Cake). \n",
    "\n",
    "This leads to some interesting behavior..."
   ]
  },
  {
   "cell_type": "code",
   "execution_count": 30,
   "metadata": {},
   "outputs": [],
   "source": [
    "public static String asString(BirthdayCake b) {\n",
    "    return \"This is a Birthday Cake!\";\n",
    "}\n",
    "\n",
    "public static String asString(Cake c) {\n",
    "    return \"This is a Cake!\";\n",
    "}\n",
    "\n",
    "Cake cake = new Cake();\n",
    "Cake bCake = new BirthdayCake();"
   ]
  },
  {
   "cell_type": "code",
   "execution_count": 31,
   "metadata": {},
   "outputs": [
    {
     "name": "stdout",
     "output_type": "stream",
     "text": [
      "This is a Cake!\n",
      "This is a Birthday Cake!\n"
     ]
    }
   ],
   "source": [
    "System.out.println(cake.toString());\n",
    "System.out.println(bCake.toString());"
   ]
  },
  {
   "cell_type": "code",
   "execution_count": 32,
   "metadata": {},
   "outputs": [
    {
     "name": "stdout",
     "output_type": "stream",
     "text": [
      "This is a Cake!\n",
      "This is a Cake!\n"
     ]
    }
   ],
   "source": [
    "System.out.println(asString(cake));\n",
    "System.out.println(asString(bCake));"
   ]
  },
  {
   "cell_type": "markdown",
   "metadata": {},
   "source": [
    "This behavior is due to Java's __binding__ property. \n",
    "\n",
    "As mentioned earlier, the compiler and object may disagree on the object's type\n",
    "\n",
    "```Java\n",
    "Cake fraudCake = new BirthdayCake();\n",
    "```\n",
    "\n",
    "`fraudCake` knows it's a `BirthdayCake` but the compiler think's `fraudCake` is a cake. \n",
    "\n",
    "So the line:\n",
    "\n",
    "```Java\n",
    "fraudCake.putCandlesOnCake(10);\n",
    "```\n",
    "\n",
    "won't compile because the compiler sees `fraudCake` as a `Cake` which doesn't have a `putCandlesOnCake()` method. \n",
    "\n",
    "But the line:\n",
    "\n",
    "```Java\n",
    "fraudCake.toString();\n",
    "```\n",
    "\n",
    "prints `This is a BirthdayCake` because `fraudCake` knows it's a `BirthdayCake` and calls the `BirthdayCake` version of `toString()` instead of the `Cake` version. This is a decision made at __runtime__. This means if there's an option as to which instance method can be called on a class, that choice is made as the program is running based on the object's knowledge of its type. \n",
    "\n",
    "Furthermore, if we have two methods\n",
    "\n",
    "```Java\n",
    "public static void doSomething(Cake c) {\n",
    "    System.out.println(\"Cake\");\n",
    "}\n",
    "\n",
    "public static void doSomething(BirthdayCake b) {\n",
    "    System.out.println(\"BirthdayCake\");\n",
    "}\n",
    "```\n",
    "\n",
    "and we call\n",
    "\n",
    "```Java\n",
    "doSomething(fraudCake);\n",
    "```\n",
    "\n",
    "the output will be `Cake` (the cake version will be used) because the compiler sees `FraudCake` as a `Cake`. This is a decision made at __compile time__. This means that the method to pass an object into is decided by the compiler (as the program is being compiled). "
   ]
  },
  {
   "cell_type": "markdown",
   "metadata": {},
   "source": [
    "##  Overriding Methods\n",
    "\n",
    "So far our subclasses are essentially copies of their base classes with added features. But sometimes we want our subclass to implement the base classes methods in different ways. We call this __overriding__ the method. \\\\\n",
    "For example, suppose we're writing an IceCreamCake class that extends Cake. We need to add ice cream to the cake before we can frost it - so we override the `frost` method. "
   ]
  },
  {
   "cell_type": "code",
   "execution_count": 26,
   "metadata": {},
   "outputs": [],
   "source": [
    "public class IceCreamCake extends Cake {\n",
    "    \n",
    "    public IceCreamCake() {\n",
    "        super();\n",
    "    }\n",
    "\n",
    "    @Override\n",
    "    public void frost() {\n",
    "        if (!this.isBaked()) {\n",
    "            System.out.println(\"You can't frost a raw cake.\");\n",
    "        }\n",
    "        else {\n",
    "            System.out.println(\"Adding ice cream\");\n",
    "            System.out.println(\"Adding frosting\");\n",
    "        }\n",
    "    }\n",
    "}"
   ]
  },
  {
   "cell_type": "code",
   "execution_count": 30,
   "metadata": {},
   "outputs": [
    {
     "name": "stdout",
     "output_type": "stream",
     "text": [
      "The cake is baking\n",
      "The cake is baking\n",
      "The cake is baking\n",
      "The cake now has frosting.\n",
      "The cake now has frosting.\n",
      "Putting 5 candles on the birthday cake.\n"
     ]
    }
   ],
   "source": [
    "Cake cake = new Cake();\n",
    "BirthdayCake bCake = new BirthdayCake();\n",
    "IceCreamCake iCake = new IceCreamCake();\n",
    "\n",
    "cake.bake();\n",
    "bCake.bake();\n",
    "iCake.bake();\n",
    "\n",
    "cake.frost();\n",
    "bCake.frost(); \n",
    "\n",
    "bCake.putCandlesOnCake(5);"
   ]
  },
  {
   "cell_type": "code",
   "execution_count": 31,
   "metadata": {},
   "outputs": [
    {
     "name": "stdout",
     "output_type": "stream",
     "text": [
      "Adding ice cream\n",
      "Adding frosting\n"
     ]
    }
   ],
   "source": [
    "iCake.frost(); "
   ]
  },
  {
   "cell_type": "code",
   "execution_count": 29,
   "metadata": {},
   "outputs": [
    {
     "ename": "CompilationException",
     "evalue": "",
     "output_type": "error",
     "traceback": [
      "\u001b[1m\u001b[30m|   \u001b[1m\u001b[30m\u001b[0m\u001b[1m\u001b[30m\u001b[41mcake.putCandlesOnCake\u001b[0m\u001b[1m\u001b[30m(5); // FAILS because we can't put candles on a generic cake\u001b[0m",
      "\u001b[1m\u001b[31mcannot find symbol\u001b[0m",
      "\u001b[1m\u001b[31m  symbol:   method putCandlesOnCake(int)\u001b[0m",
      ""
     ]
    }
   ],
   "source": [
    "cake.putCandlesOnCake(5); "
   ]
  },
  {
   "cell_type": "code",
   "execution_count": 32,
   "metadata": {},
   "outputs": [
    {
     "ename": "CompilationException",
     "evalue": "",
     "output_type": "error",
     "traceback": [
      "\u001b[1m\u001b[30m|   \u001b[1m\u001b[30m\u001b[0m\u001b[1m\u001b[30m\u001b[41miCake.putCandlesOnCake\u001b[0m\u001b[1m\u001b[30m(5); \u001b[0m",
      "\u001b[1m\u001b[31mcannot find symbol\u001b[0m",
      "\u001b[1m\u001b[31m  symbol:   method putCandlesOnCake(int)\u001b[0m",
      ""
     ]
    }
   ],
   "source": [
    "iCake.putCandlesOnCake(5); "
   ]
  },
  {
   "cell_type": "markdown",
   "metadata": {},
   "source": [
    "The `@Override` keyword is a flag that tells the compiler that the method below overrides a method of the same name, parameters, and return type in the base class. This is not strictly necessary - you do not need to include the override flag to override a method. However, including the flag allows the compiler to do a simple check to make sure you're doing what you think you're doing - you may have misspelled a method name, set an incorrect parameter type, etc. "
   ]
  },
  {
   "cell_type": "markdown",
   "metadata": {},
   "source": [
    "## Implementing Interfaces \n",
    "\n",
    "Extending classes is a very powerful tool, but sometimes we want to create classes that accomplish similar tasks in different ways. For this we use interfaces. An interface is essentially a blueprint for a class. It defines the methods that we need for our class to be of a specific type. \n",
    "\n",
    "For example, if I was creating a Car, Truck, Motorcycle, and Bicycle class I may create an interface called Vehicle. Car, Truck, Motorcycle, and Bicycle would all impliment vehicle and thus would have some methods in common. However, we can choose how we define the methods for each class. \n",
    "\n",
    "If we define our Vehicle interface:"
   ]
  },
  {
   "cell_type": "code",
   "execution_count": 34,
   "metadata": {},
   "outputs": [],
   "source": [
    "public interface Vehicle {\n",
    "\n",
    "    public int getMPG();\n",
    "\n",
    "    public int getNumPassengers();\n",
    "\n",
    "    public void changeTires();\n",
    "    \n",
    "    public String toString();\n",
    "}"
   ]
  },
  {
   "cell_type": "code",
   "execution_count": 35,
   "metadata": {},
   "outputs": [],
   "source": [
    "public class Car implements Vehicle {\n",
    "    private int numWheels = 4;\n",
    "    private int numPassengers;\n",
    "\n",
    "    public Car(int n) {\n",
    "        this.numPassengers = n;\n",
    "    }\n",
    "\n",
    "    public int getMPG() {\n",
    "        return 35;\n",
    "    }\n",
    "\n",
    "    public int getNumPassengers() {\n",
    "        return this.numPassengers;\n",
    "    }\n",
    "\n",
    "    public void changeTires() {\n",
    "        System.out.println(\"Changing \" + this.numWheels + \" tires\");\n",
    "    }\n",
    "    \n",
    "    public String toString() {\n",
    "        return String.format(\"Car with %d passengers and %d mpg\", numPassengers, this.getMPG());\n",
    "    }\n",
    "}"
   ]
  },
  {
   "cell_type": "code",
   "execution_count": 36,
   "metadata": {},
   "outputs": [],
   "source": [
    "public class Bicycle implements Vehicle {\n",
    "    private int numWheels = 2;\n",
    "    private int numPassengers;\n",
    "\n",
    "    public Bicycle() {\n",
    "        this.numPassengers = 0;\n",
    "    }\n",
    "\n",
    "    public int getMPG() {\n",
    "        return -1;\n",
    "    }\n",
    "\n",
    "    public int getNumPassengers() {\n",
    "        return this.numPassengers;\n",
    "    }\n",
    "\n",
    "    public void changeTires() {\n",
    "        System.out.println(\"Changing \" + this.numWheels + \" tires\");\n",
    "    }\n",
    "    \n",
    "    public String toString() {\n",
    "        return \"Just a bike\";\n",
    "    }\n",
    "}"
   ]
  },
  {
   "cell_type": "markdown",
   "metadata": {},
   "source": [
    "We can see that Car and Bicycle have the same methods, but they're executed differently. \n",
    "Some notes:\n",
    "- We cannot instantiate a pure interface. However, we can instantiate objects that implement an interface as the interface type. So `Vehicle v = new Vehicle();` is invalid but `Vehicle v = new Car(4);` is valid.\n",
    "- We can add any class that implements Vehicle to an array of Vehicles. "
   ]
  },
  {
   "cell_type": "code",
   "execution_count": 38,
   "metadata": {},
   "outputs": [
    {
     "name": "stdout",
     "output_type": "stream",
     "text": [
      "Car with 0 passengers and 35 mpg\n",
      "35\n",
      "\n",
      "Just a bike\n",
      "-1\n",
      "\n",
      "Car with 2 passengers and 35 mpg\n",
      "35\n",
      "\n",
      "Just a bike\n",
      "-1\n",
      "\n",
      "Car with 4 passengers and 35 mpg\n",
      "35\n",
      "\n",
      "Just a bike\n",
      "-1\n",
      "\n",
      "Car with 6 passengers and 35 mpg\n",
      "35\n",
      "\n",
      "Just a bike\n",
      "-1\n",
      "\n",
      "Car with 8 passengers and 35 mpg\n",
      "35\n",
      "\n",
      "Just a bike\n",
      "-1\n",
      "\n"
     ]
    }
   ],
   "source": [
    "Vehicle car = new Car(4);\n",
    "Vehicle bike = new Bicycle();\n",
    "Vehicle[] vehicles = new Vehicle[10];\n",
    "for (int i = 0; i < vehicles.length; i++) {\n",
    "    if (i % 2 == 0) {\n",
    "        vehicles[i] = new Car(i);\n",
    "    }\n",
    "    else {\n",
    "        vehicles[i] = new Bicycle();\n",
    "    }\n",
    "}\n",
    "for (Vehicle v : vehicles) {\n",
    "    System.out.println(v.toString());\n",
    "    System.out.println(v.getMPG());\n",
    "    System.out.println();\n",
    "}"
   ]
  },
  {
   "cell_type": "code",
   "execution_count": null,
   "metadata": {},
   "outputs": [],
   "source": []
  }
 ],
 "metadata": {
  "kernelspec": {
   "display_name": "Java",
   "language": "java",
   "name": "java"
  },
  "language_info": {
   "codemirror_mode": "java",
   "file_extension": ".java",
   "mimetype": "text/x-java-source",
   "name": "Java",
   "pygments_lexer": "java",
   "version": "9.0.1+11"
  }
 },
 "nbformat": 4,
 "nbformat_minor": 2
}

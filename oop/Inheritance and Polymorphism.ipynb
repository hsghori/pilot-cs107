{
 "cells": [
  {
   "cell_type": "markdown",
   "metadata": {},
   "source": [
    "# Inheritance and Polymorphism\n",
    "\n",
    "## Extending Classes (Inheritance)\n",
    "\n",
    "Creating our own Objects can be very useful - but what if we want to create related Objects? For example, what if we've written a Cake object and now we want to create a BrithdayCake object. The BirthdayCake should be very similar to the Cake but with slight alterations. Java allows us to take advantage of these relationships by \"extending\" classes. If ClassB \"extends\" or \"inherits from\" ClassA, ClassB is said to be a child class of ClassA. ClassB has all of the member variables and methods of ClassA and ClassB can define additional member variables and methods."
   ]
  },
  {
   "cell_type": "code",
   "execution_count": 1,
   "metadata": {},
   "outputs": [],
   "source": [
    "public class Cake {\n",
    "\n",
    "    private boolean isBaked;\n",
    "    \n",
    "    public Cake() {\n",
    "        this.isBaked = false;\n",
    "    }\n",
    "\n",
    "    public boolean isBaked() {\n",
    "        return this.isBaked;\n",
    "    }\n",
    "    \n",
    "    public void bake() {\n",
    "        this.isBaked = true;\n",
    "        System.out.println(\"The cake is baking\");\n",
    "    }\n",
    "\n",
    "    public void frost() {\n",
    "        if (!this.isBaked) {\n",
    "            System.out.println(\"You can't frost a raw cake.\");\n",
    "        }\n",
    "        else {\n",
    "            System.out.println(\"The cake now has frosting.\");\n",
    "        }\n",
    "    }\n",
    "}"
   ]
  },
  {
   "cell_type": "markdown",
   "metadata": {},
   "source": [
    "A BirthdayCake should be able to do evrything a Cake can do (a BirthdayCake should also be able to bake and frost), but we should also be able to put candles on a BirthdayCake. We can thus make BirthdayCake a child of Cake and add a new method which adds candles to the BirthdayCake. "
   ]
  },
  {
   "cell_type": "code",
   "execution_count": 2,
   "metadata": {},
   "outputs": [],
   "source": [
    " public class BirthdayCake extends Cake {\n",
    "\n",
    "    private int candles;\n",
    "\n",
    "    public BirthdayCake() {\n",
    "        super(); // this calls the constructor for Cake\n",
    "        this.candles = 0;\n",
    "    }\n",
    "\n",
    "    public void putCandlesOnCake(int numberOfCandles) {\n",
    "        this.candles += numberOfCandles;\n",
    "        System.out.println(\"Putting \" + numberOfCandles + \" candles on the birthday cake.\");\n",
    "    }\n",
    "}"
   ]
  },
  {
   "cell_type": "markdown",
   "metadata": {},
   "source": [
    "Now we can create Cake object on which we can call bake and frost and a BirthdayCake object on which we can call `bake`, `frost`, and `putCandlesOnCake`. Note that we cannot call `putCandlesOnCake` on a Cake object since that method is only defined for BirthdayCake. "
   ]
  },
  {
   "cell_type": "code",
   "execution_count": 4,
   "metadata": {},
   "outputs": [
    {
     "name": "stdout",
     "output_type": "stream",
     "text": [
      "The cake is baking\n",
      "The cake is baking\n",
      "The cake now has frosting.\n",
      "The cake now has frosting.\n",
      "Putting 1 candles on the birthday cake.\n"
     ]
    }
   ],
   "source": [
    "Cake cake = new Cake();\n",
    "BirthdayCake bCake = new BirthdayCake();\n",
    "\n",
    "cake.bake();\n",
    "bCake.bake();\n",
    "\n",
    "cake.frost();\n",
    "bCake.frost();\n",
    "\n",
    "bCake.putCandlesOnCake(1);"
   ]
  },
  {
   "cell_type": "code",
   "execution_count": 5,
   "metadata": {},
   "outputs": [
    {
     "ename": "CompilationException",
     "evalue": "",
     "output_type": "error",
     "traceback": [
      "\u001b[1m\u001b[30m|   \u001b[1m\u001b[30m\u001b[0m\u001b[1m\u001b[30m\u001b[41mcake.putCandlesOnCake\u001b[0m\u001b[1m\u001b[30m(); // FAILS because we can only put candles on a BirthdayCake\u001b[0m",
      "\u001b[1m\u001b[31mcannot find symbol\u001b[0m",
      "\u001b[1m\u001b[31m  symbol:   method putCandlesOnCake()\u001b[0m",
      ""
     ]
    }
   ],
   "source": [
    "cake.putCandlesOnCake(); "
   ]
  },
  {
   "cell_type": "markdown",
   "metadata": {},
   "source": [
    "### Properties of Inheritance\n",
    "\n",
    "In Java there the object AND the compiler \"know\" the objects type, but sometimes the object and the compiler will disagree.  \n",
    "\n",
    "```Java\n",
    "Cake disguisedBithdayCake = new BirthdayCake();\n",
    "```\n",
    "\n",
    "Here `disguisedBirthdayCake` \"knows\" that it's a BirthdayCake (because its been defined as a BirthdayCake), However, the compiler thinks that `disguisedBirthdayCake` is a Cake (because its been declared as a Cake). \n",
    "\n",
    "This leads to some interesting behavior. \n",
    "\n",
    "- In this example we would say that cake is the base class and BirthdayCake is a subclass of Cake. \n",
    "- A variable of type BirthdayCake is also of type Cake. So we can create an array `Cake[] cakes;` and add BirthdayCake objects to it. Additionally `bCake instanceof Cake` returns `true`.\n",
    "- A variable of type BirthdayCake can be cast to Cake. You cannot cast a Cake to a BirthdayCake. \n",
    "- A variable of type BirthdayCake cannot use any private variables or methods in Cake. "
   ]
  },
  {
   "cell_type": "code",
   "execution_count": 12,
   "metadata": {},
   "outputs": [
    {
     "name": "stdout",
     "output_type": "stream",
     "text": [
      "birthday cake instance of Cake? true\n",
      "cake instance of BirthdayCake? false\n"
     ]
    }
   ],
   "source": [
    "System.out.println(\"birthday cake instance of Cake? \" + (bCake instanceof Cake));\n",
    "System.out.println(\"cake instance of BirthdayCake? \" + (cake instanceof BirthdayCake));"
   ]
  },
  {
   "cell_type": "code",
   "execution_count": 17,
   "metadata": {},
   "outputs": [
    {
     "name": "stdout",
     "output_type": "stream",
     "text": [
      "c instanceof BirthdayCake? true\n"
     ]
    }
   ],
   "source": [
    "Cake c = new BirthdayCake();\n",
    "System.out.println(\"c instanceof BirthdayCake? \" + (c instanceof BirthdayCake));"
   ]
  },
  {
   "cell_type": "code",
   "execution_count": 18,
   "metadata": {},
   "outputs": [
    {
     "ename": "CompilationException",
     "evalue": "",
     "output_type": "error",
     "traceback": [
      "\u001b[1m\u001b[30m|   \u001b[1m\u001b[30m\u001b[0m\u001b[1m\u001b[30m\u001b[41mc.putCandlesOnCake\u001b[0m\u001b[1m\u001b[30m(10);\u001b[0m",
      "\u001b[1m\u001b[31mcannot find symbol\u001b[0m",
      "\u001b[1m\u001b[31m  symbol:   method putCandlesOnCake(int)\u001b[0m",
      ""
     ]
    }
   ],
   "source": [
    "c.putCandlesOnCake(10);"
   ]
  },
  {
   "cell_type": "code",
   "execution_count": 21,
   "metadata": {},
   "outputs": [
    {
     "name": "stdout",
     "output_type": "stream",
     "text": [
      "Putting 10 candles on the birthday cake.\n"
     ]
    }
   ],
   "source": [
    "public static void tenthBirthday(BirthdayCake b) {\n",
    "    b.putCandlesOnCake(10);\n",
    "}\n",
    "\n",
    "tenthBirthday((BirthdayCake)c);"
   ]
  },
  {
   "cell_type": "markdown",
   "metadata": {},
   "source": [
    "###  Overriding Methods\n",
    "\n",
    "So far our subclasses are essentially copies of their base classes with added features. But sometimes we want our subclass to implement the base classes methods in different ways. We call this __overriding__ the method. \\\\\n",
    "For example, suppose we're writing an IceCreamCake class that extends Cake. We need to add ice cream to the cake before we can frost it - so we override the `frost` method. "
   ]
  },
  {
   "cell_type": "code",
   "execution_count": 26,
   "metadata": {},
   "outputs": [],
   "source": [
    "public class IceCreamCake extends Cake {\n",
    "    \n",
    "    public IceCreamCake() {\n",
    "        super();\n",
    "    }\n",
    "\n",
    "    @Override\n",
    "    public void frost() {\n",
    "        if (!this.isBaked()) {\n",
    "            System.out.println(\"You can't frost a raw cake.\");\n",
    "        }\n",
    "        else {\n",
    "            System.out.println(\"Adding ice cream\");\n",
    "            System.out.println(\"Adding frosting\");\n",
    "        }\n",
    "    }\n",
    "}"
   ]
  },
  {
   "cell_type": "code",
   "execution_count": 30,
   "metadata": {},
   "outputs": [
    {
     "name": "stdout",
     "output_type": "stream",
     "text": [
      "The cake is baking\n",
      "The cake is baking\n",
      "The cake is baking\n",
      "The cake now has frosting.\n",
      "The cake now has frosting.\n",
      "Putting 5 candles on the birthday cake.\n"
     ]
    }
   ],
   "source": [
    "Cake cake = new Cake();\n",
    "BirthdayCake bCake = new BirthdayCake();\n",
    "IceCreamCake iCake = new IceCreamCake();\n",
    "\n",
    "cake.bake();\n",
    "bCake.bake();\n",
    "iCake.bake();\n",
    "\n",
    "cake.frost();\n",
    "bCake.frost(); \n",
    "\n",
    "bCake.putCandlesOnCake(5);"
   ]
  },
  {
   "cell_type": "code",
   "execution_count": 31,
   "metadata": {},
   "outputs": [
    {
     "name": "stdout",
     "output_type": "stream",
     "text": [
      "Adding ice cream\n",
      "Adding frosting\n"
     ]
    }
   ],
   "source": [
    "iCake.frost(); "
   ]
  },
  {
   "cell_type": "code",
   "execution_count": 29,
   "metadata": {},
   "outputs": [
    {
     "ename": "CompilationException",
     "evalue": "",
     "output_type": "error",
     "traceback": [
      "\u001b[1m\u001b[30m|   \u001b[1m\u001b[30m\u001b[0m\u001b[1m\u001b[30m\u001b[41mcake.putCandlesOnCake\u001b[0m\u001b[1m\u001b[30m(5); // FAILS because we can't put candles on a generic cake\u001b[0m",
      "\u001b[1m\u001b[31mcannot find symbol\u001b[0m",
      "\u001b[1m\u001b[31m  symbol:   method putCandlesOnCake(int)\u001b[0m",
      ""
     ]
    }
   ],
   "source": [
    "cake.putCandlesOnCake(5); "
   ]
  },
  {
   "cell_type": "code",
   "execution_count": 32,
   "metadata": {},
   "outputs": [
    {
     "ename": "CompilationException",
     "evalue": "",
     "output_type": "error",
     "traceback": [
      "\u001b[1m\u001b[30m|   \u001b[1m\u001b[30m\u001b[0m\u001b[1m\u001b[30m\u001b[41miCake.putCandlesOnCake\u001b[0m\u001b[1m\u001b[30m(5); \u001b[0m",
      "\u001b[1m\u001b[31mcannot find symbol\u001b[0m",
      "\u001b[1m\u001b[31m  symbol:   method putCandlesOnCake(int)\u001b[0m",
      ""
     ]
    }
   ],
   "source": [
    "iCake.putCandlesOnCake(5); "
   ]
  },
  {
   "cell_type": "markdown",
   "metadata": {},
   "source": [
    "The `@Override` keyword is a flag that tells the compiler that the method below overrides a method of the same name, parameters, and return type in the base class. This is not strictly necessary - you do not need to include the override flag to override a method. However, including the flag allows the compiler to do a simple check to make sure you're doing what you think you're doing - you may have misspelled a method name, set an incorrect parameter type, etc. "
   ]
  },
  {
   "cell_type": "markdown",
   "metadata": {},
   "source": [
    "## Implementing Interfaces \n",
    "\n",
    "Extending classes is a very powerful tool, but sometimes we want to create classes that accomplish similar tasks in different ways. For this we use interfaces. An interface is essentially a blueprint for a class. It defines the methods that we need for our class to be of a specific type. \n",
    "\n",
    "For example, if I was creating a Car, Truck, Motorcycle, and Bicycle class I may create an interface called Vehicle. Car, Truck, Motorcycle, and Bicycle would all impliment vehicle and thus would have some methods in common. However, we can choose how we define the methods for each class. \n",
    "\n",
    "If we define our Vehicle interface:"
   ]
  },
  {
   "cell_type": "code",
   "execution_count": 36,
   "metadata": {},
   "outputs": [],
   "source": [
    "public interface Vehicle {\n",
    "\n",
    "    public int getMPG();\n",
    "\n",
    "    public int getNumPassengers();\n",
    "\n",
    "    public void changeTires();\n",
    "    \n",
    "    public String toString();\n",
    "}"
   ]
  },
  {
   "cell_type": "code",
   "execution_count": 48,
   "metadata": {},
   "outputs": [],
   "source": [
    "public class Car implements Vehicle {\n",
    "    private int numWheels = 4;\n",
    "    private int numPassengers;\n",
    "\n",
    "    public Car(int n) {\n",
    "        this.numPassengers = n;\n",
    "    }\n",
    "\n",
    "    public int getMPG() {\n",
    "        return 35;\n",
    "    }\n",
    "\n",
    "    public int getNumPassengers() {\n",
    "        return this.numPassengers;\n",
    "    }\n",
    "\n",
    "    public void changeTires() {\n",
    "        System.out.println(\"Changing \" + this.numWheels + \" tires\");\n",
    "    }\n",
    "    \n",
    "    public String toString() {\n",
    "        return String.format(\"Car with %d passengers and %d mpg\", numPassengers, this.getMPG());\n",
    "    }\n",
    "}"
   ]
  },
  {
   "cell_type": "code",
   "execution_count": 46,
   "metadata": {},
   "outputs": [],
   "source": [
    "public class Bicycle implements Vehicle {\n",
    "    private int numWheels = 2;\n",
    "    private int numPassengers;\n",
    "\n",
    "    public Bicycle() {\n",
    "        this.numPassengers = 0;\n",
    "    }\n",
    "\n",
    "    public int getMPG() {\n",
    "        return -1;\n",
    "    }\n",
    "\n",
    "    public int getNumPassengers() {\n",
    "        return this.numPassengers;\n",
    "    }\n",
    "\n",
    "    public void changeTires() {\n",
    "        System.out.println(\"Changing \" + this.numWheels + \" tires\");\n",
    "    }\n",
    "    \n",
    "    public String toString() {\n",
    "        return \"Just a bike\";\n",
    "    }\n",
    "}"
   ]
  },
  {
   "cell_type": "markdown",
   "metadata": {},
   "source": [
    "We can see that Car and Bicycle have the same methods, but they're executed differently. \n",
    "Some notes:\n",
    "- We cannot instantiate a pure interface. However, we can instantiate objects that implement an interface as the interface type. So `Vehicle v = new Vehicle();` is invalid but `Vehicle v = new Car(4);` is valid.\n",
    "- We can add any class that implements Vehicle to an array of Vehicles. "
   ]
  },
  {
   "cell_type": "code",
   "execution_count": 49,
   "metadata": {},
   "outputs": [
    {
     "name": "stdout",
     "output_type": "stream",
     "text": [
      "Car with 0 passengers and 35 mpg\n",
      "35\n",
      "Just a bike\n",
      "-1\n",
      "Car with 2 passengers and 35 mpg\n",
      "35\n",
      "Just a bike\n",
      "-1\n",
      "Car with 4 passengers and 35 mpg\n",
      "35\n",
      "Just a bike\n",
      "-1\n",
      "Car with 6 passengers and 35 mpg\n",
      "35\n",
      "Just a bike\n",
      "-1\n",
      "Car with 8 passengers and 35 mpg\n",
      "35\n",
      "Just a bike\n",
      "-1\n"
     ]
    }
   ],
   "source": [
    "Vehicle car = new Car(4);\n",
    "Vehicle bike = new Bicycle();\n",
    "Vehicle[] vehicles = new Vehicle[10];\n",
    "for (int i = 0; i < vehicles.length; i++) {\n",
    "    if (i % 2 == 0) {\n",
    "        vehicles[i] = new Car(i);\n",
    "    }\n",
    "    else {\n",
    "        vehicles[i] = new Bicycle();\n",
    "    }\n",
    "}\n",
    "for (Vehicle v : vehicles) {\n",
    "    System.out.println(v.toString());\n",
    "    System.out.println(v.getMPG());\n",
    "}"
   ]
  }
 ],
 "metadata": {
  "kernelspec": {
   "display_name": "Java",
   "language": "java",
   "name": "java"
  },
  "language_info": {
   "codemirror_mode": "java",
   "file_extension": ".java",
   "mimetype": "text/x-java-source",
   "name": "Java",
   "pygments_lexer": "java",
   "version": "9.0.1+11"
  }
 },
 "nbformat": 4,
 "nbformat_minor": 2
}

{
 "cells": [
  {
   "cell_type": "markdown",
   "metadata": {},
   "source": [
    "# Instantiable Classes"
   ]
  },
  {
   "cell_type": "markdown",
   "metadata": {},
   "source": [
    "So far we've worked with data types that have been defined for us. However a lot of the time we want to be able to define our own data types - with their own associated variables and methods. This is the basic principle behind __Object Oriented Programming__. Object oriented programming is a programming paradigm centered around user defined data types (aka objects). An object oriented programming language (like Java) allows users to define their own data types and use them in programs. From here on out I'll say object instead of data type. "
   ]
  },
  {
   "cell_type": "markdown",
   "metadata": {},
   "source": [
    "We define our own objects by writing an __instantiable class__. An instantiable class is essentially a blueprint for an object - it defines what an object contains, how to create an object, and the methods you can call on the object. \n",
    "A basic instantiable class can be broken down into three sections\n",
    "1. The member variables - The member variables define what data the object stores. \n",
    "2. The constuctor(s) - The constructors define how we create a new instance of the object.\n",
    "3. The methods - These are methods we can call on the object."
   ]
  },
  {
   "cell_type": "markdown",
   "metadata": {},
   "source": [
    "__The Problem__\n",
    "\n",
    "We're going to be using this problem for most of our discussion of OOP. The NBA playoffs are coming up and we want to write a program to keep track of the performance of our favorite basketball teams as they advance through the postseason. We could write some really complicated code to keep track of each team and link their win / loss percentages together, but instead we're going to use object oriented programming."
   ]
  },
  {
   "cell_type": "code",
   "execution_count": null,
   "metadata": {},
   "outputs": [],
   "source": [
    "public class Team {\n",
    "    \n",
    "    public String name;\n",
    "    public int gamesWon;\n",
    "    public int gamesLost;\n",
    "    public double winPercentage;\n",
    "    \n",
    "    public Team(String name) {\n",
    "        this.name = name;\n",
    "        this.gamesWon = 0;\n",
    "        this.gamesLost = 0;\n",
    "        this.winPercentage = 0;\n",
    "    }\n",
    "    \n",
    "    public void updateWinPercentage() {\n",
    "        if (this.gamesWon + this.gamesLost == 0) {\n",
    "            this.winPercentage = 0;\n",
    "        }\n",
    "        this.winPercentage = 100 * (double)this.gamesWon \n",
    "               / (this.gamesWon + this.gamesLost);\n",
    "    }\n",
    "    \n",
    "    public String toString() {\n",
    "        return String.format(\"%s: %d won %d lost, %.2f%%\",\n",
    "               this.name, this.gamesWon, this.gamesLost, \n",
    "               this.winPercentage);\n",
    "    }\n",
    "}"
   ]
  },
  {
   "cell_type": "markdown",
   "metadata": {},
   "source": [
    "This is a very basic class. Note the three parts\n",
    "1. The member variables are name, gamesWon, and gamesLost. These values are accessible anywhere within the entire class. \n",
    "2. The constructor is a method with the same name as the class (in this case Team). It is used to set up the object. It is possible to have more than one constructor. \n",
    "3. In this case we only have one method. This method uses the stored gamesWon and gamesLost to get the team's win percentage. \n",
    "\n",
    "Also note that the `this` keyword refers to the current instance of the class. When I call `this.gamesLost` inside a class definition I am referring to the `gamesLost` variable inside a specific instance of `Team`. \n",
    "\n",
    "You must save an instantiable class in a file with the same name as the class. So the Team class would be in a file called Team.java. \n",
    "The easiest way to access the Team class from another program is to save Student.java in the same folder (directory) as the driver (program with the main method). \n",
    "\n",
    "Now we can create variables that are \"instances\" of type Team whose behavior is defined by the blueprint above. "
   ]
  },
  {
   "cell_type": "code",
   "execution_count": null,
   "metadata": {},
   "outputs": [],
   "source": [
    "Team kings = new Team(\"Sacramento Kings\");\n",
    "Team lakers = new Team(\"LA Lakers\");"
   ]
  },
  {
   "cell_type": "markdown",
   "metadata": {},
   "source": [
    "Now that we've created some Teams we can access and modify their stored variables and call their methods. "
   ]
  },
  {
   "cell_type": "code",
   "execution_count": null,
   "metadata": {},
   "outputs": [],
   "source": [
    "System.out.println(kings.toString());\n",
    "System.out.println(lakers.toString());\n",
    "// if the kings beat the lakers\n",
    "kings.gamesWon++;\n",
    "lakers.gamesLost++;\n",
    "kings.updateWinPercentage();\n",
    "lakers.updateWinPercentage();\n",
    "System.out.println(kings.toString());\n",
    "System.out.println(lakers.toString());"
   ]
  },
  {
   "cell_type": "markdown",
   "metadata": {},
   "source": [
    "There is a major problem with this construction. Anyone can change any of the variables at any time. This can be advantageous sometimes, but usually it leads to synchronization problems between our variables."
   ]
  },
  {
   "cell_type": "code",
   "execution_count": null,
   "metadata": {},
   "outputs": [],
   "source": [
    "kings.gamesLost += 10;\n",
    "System.out.println(kings.toString());\n",
    "\n",
    "lakers.gamesWon -= 10;\n",
    "lakers.updateWinPercentage();\n",
    "System.out.println(lakers.toString());"
   ]
  },
  {
   "cell_type": "markdown",
   "metadata": {},
   "source": [
    "To fix these inconsistancies, we define our variables with the private keyword instead of public. If a member variable or method is private it cannot be seen or accessed outside of the class - the methods inside the class can access private variables and methods, but nothing outside can access a private variable or method. We then write methods to \"get\" and \"set\" the member variables - we call these getter and setter methods. \n",
    "For our Team class:"
   ]
  },
  {
   "cell_type": "code",
   "execution_count": null,
   "metadata": {},
   "outputs": [],
   "source": [
    "public class Team {\n",
    "    \n",
    "    private String name;\n",
    "    private int gamesWon;\n",
    "    private int gamesLost;\n",
    "    private double winPercentage;\n",
    "    \n",
    "    public Team(String name) {\n",
    "        this.name = name;\n",
    "        this.gamesWon = 0;\n",
    "        this.gamesLost = 0;\n",
    "        this.winPercentage = 0;\n",
    "    }\n",
    "    \n",
    "    public String getName() { return this.name; }\n",
    "    public int getGamesWon() { return this.gamesWon; }\n",
    "    public int getGamesLost() { return this.gamesLost; }\n",
    "    public double getWinPercentage() { return this.winPercentage; }\n",
    "    \n",
    "    public void wonGame() { \n",
    "        this.gamesWon++; \n",
    "        this.updateWinPercentage();\n",
    "    }\n",
    "    \n",
    "    public void lostGame() { \n",
    "        this.gamesLost++; \n",
    "        this.updateWinPercentage();\n",
    "    }\n",
    "    \n",
    "    private void updateWinPercentage() {\n",
    "        if (this.gamesWon + this.gamesLost == 0) {\n",
    "            this.winPercentage = 0;\n",
    "        }\n",
    "        this.winPercentage = 100 * (double)this.gamesWon \n",
    "               / (this.gamesWon + this.gamesLost);\n",
    "    }\n",
    "    \n",
    "    public String toString() {\n",
    "        return String.format(\"%s: %d won %d lost, %.2f%%\",\n",
    "               this.name, this.gamesWon, this.gamesLost, \n",
    "               this.winPercentage);\n",
    "    }\n",
    "}"
   ]
  },
  {
   "cell_type": "markdown",
   "metadata": {},
   "source": [
    "Like member variables, class methods can be public or private. Public methods can be called from an external class and private methods can obly be called from within the class. We use private methods to execute \"helper\" functions that we don't want the user to explicitly do. For example, we set the `updateWinPercentage` method to private because we want that to be done intenally, without external user input. "
   ]
  },
  {
   "cell_type": "code",
   "execution_count": null,
   "metadata": {},
   "outputs": [],
   "source": [
    "Team kings = new Team(\"Sacramento Kings\");\n",
    "Team lakers = new Team(\"LA Lakers\");\n",
    "\n",
    "System.out.println(kings.toString());\n",
    "System.out.println(lakers.toString());\n",
    "// if the kings beat the lakers\n",
    "kings.wonGame();\n",
    "lakers.lostGame();\n",
    "System.out.println(kings.toString());\n",
    "System.out.println(lakers.toString());\n",
    "\n",
    "for (int i = 0; i < 10; i++) {\n",
    "    kings.lostGame();\n",
    "}\n",
    "System.out.println(kings.toString());"
   ]
  },
  {
   "cell_type": "markdown",
   "metadata": {},
   "source": [
    "Setting variables and methods to private forces users and other programmers to interact with your class in ways that you have defined. This makes it a lot easier to write error-free code. \n",
    "\n",
    "For example, in the above example I can no longer just set a team to lose or win a bunch of games. They can only lose or win one game at a time. \n",
    "\n",
    "When programming (in the real world) you should operate under the assumption that the user will try to break your programs - you should write and test your code accordingly. "
   ]
  },
  {
   "cell_type": "markdown",
   "metadata": {},
   "source": [
    "### Common Methods\n",
    "\n",
    "Most classes you write will have some methods in common\n",
    "1. toString() - this method returns a string representation of the object\n",
    "2. equals(Object o) - this method compares the object with another object\n",
    "3. compareTo(Object o) - this method checks if two objects are equal to each other. "
   ]
  },
  {
   "cell_type": "code",
   "execution_count": null,
   "metadata": {},
   "outputs": [],
   "source": [
    "public class Team {\n",
    "    \n",
    "    private String name;\n",
    "    private int gamesWon;\n",
    "    private int gamesLost;\n",
    "    private double winPercentage;\n",
    "    \n",
    "    public Team(String name) {\n",
    "        this.name = name;\n",
    "        this.gamesWon = 0;\n",
    "        this.gamesLost = 0;\n",
    "        this.winPercentage = 0;\n",
    "    }\n",
    "    \n",
    "    public String getName() { return this.name; }\n",
    "    public int getGamesWon() { return this.gamesWon; }\n",
    "    public int getGamesLost() { return this.gamesLost; }\n",
    "    public double getWinPercentage() { return this.winPercentage; }\n",
    "    \n",
    "    public void wonGame() { \n",
    "        this.gamesWon++; \n",
    "        this.updateWinPercentage();\n",
    "    }\n",
    "    \n",
    "    public void lostGame() { \n",
    "        this.gamesLost++; \n",
    "        this.updateWinPercentage();\n",
    "    }\n",
    "    \n",
    "    private void updateWinPercentage() {\n",
    "        if (this.gamesWon + this.gamesLost == 0) {\n",
    "            this.winPercentage = 0;\n",
    "        }\n",
    "        this.winPercentage = 100 * (double)this.gamesWon \n",
    "               / (this.gamesWon + this.gamesLost);\n",
    "    }\n",
    "    \n",
    "    public boolean equals(Object o) {\n",
    "        if (o instanceof Team) {\n",
    "            Team other = (Team) o;\n",
    "            return this.gamesWon == other.getGamesWon() \n",
    "                   && this.gamesLost == other.getGamesLost()\n",
    "                   && this.name.equals(other.getName());\n",
    "        }\n",
    "        return false;\n",
    "    }\n",
    "    \n",
    "    public int compareTo(Object o) {\n",
    "        if (o instanceof Team) {\n",
    "            Team other = (Team) o;\n",
    "            return (int)(this.winPercentage - other.getWinPercentage());\n",
    "        }\n",
    "        return -1;\n",
    "    }\n",
    "    \n",
    "    public String toString() {\n",
    "        return String.format(\"%s: %d won %d lost, %.2f%%\",\n",
    "               this.name, this.gamesWon, this.gamesLost, \n",
    "               this.winPercentage);\n",
    "    }\n",
    "}"
   ]
  },
  {
   "cell_type": "code",
   "execution_count": null,
   "metadata": {},
   "outputs": [],
   "source": [
    "Team kings = new Team(\"Sacramento Kings\");\n",
    "Team lakers = new Team(\"LA Lakers\");\n",
    "System.out.println(\"Comparing kings and lakers \" + kings.compareTo(lakers));\n",
    "kings.wonGame();\n",
    "lakers.lostGame();\n",
    "System.out.println(\"Comparing kings and lakers \" + kings.compareTo(lakers));\n",
    "Team otherKings = new Team(\"Sacramento Kings\");\n",
    "System.out.println(\"Are two kings equal? \" + kings.equals(otherKings));\n",
    "otherKings.wonGame();\n",
    "System.out.println(\"Are two kings equal? \" + kings.equals(otherKings));"
   ]
  },
  {
   "cell_type": "markdown",
   "metadata": {},
   "source": [
    "The keyword `instanceof` checks to see if some object is an instance of the given type. So `o instanceof Team` evaluates to true if `o` can be viewed as a `Team` and false if not. "
   ]
  },
  {
   "cell_type": "markdown",
   "metadata": {},
   "source": [
    "### Defining Static"
   ]
  },
  {
   "cell_type": "markdown",
   "metadata": {},
   "source": [
    "In Java, a static member is a member of a class that isn’t associated with an instance of a class. Instead, the member belongs to the class itself. As a result, you can access the static member without first creating a class instance.\n",
    "\n",
    "Consider the `Math` class. You can use `Math.abs` and `Math.pow` without doing `Math m = new Math();`. `abs` and `pow` are thus `static` members of the `Math` class because they don't depend on a specific instantiation of `Math`. \n",
    "\n",
    "Your main method is also always `static` because it is irrespective of any potential instantiation of the class. "
   ]
  },
  {
   "cell_type": "code",
   "execution_count": null,
   "metadata": {},
   "outputs": [],
   "source": [
    "public class Team {\n",
    "    \n",
    "    private String name;\n",
    "    private int gamesWon;\n",
    "    private int gamesLost;\n",
    "    private double winPercentage;\n",
    "    private static final int numPlayers = 5;\n",
    "    \n",
    "    public Team(String name) {\n",
    "        this.name = name;\n",
    "        this.gamesWon = 0;\n",
    "        this.gamesLost = 0;\n",
    "        this.winPercentage = 0;\n",
    "    }\n",
    "    \n",
    "    public static void playGame(Team won, Team lost) {\n",
    "        won.wonGame();\n",
    "        lost.lostGame();\n",
    "    }\n",
    "    \n",
    "    public String getName() { return this.name; }\n",
    "    public int getGamesWon() { return this.gamesWon; }\n",
    "    public int getVamesLost() { return this.gamesLost; }\n",
    "    \n",
    "    public void wonGame() { \n",
    "        this.gamesWon++; \n",
    "        this.updateWinPercentage();\n",
    "    }\n",
    "    \n",
    "    public void lostGame() { \n",
    "        this.gamesLost++; \n",
    "        this.updateWinPercentage();\n",
    "    }\n",
    "    \n",
    "    private void updateWinPercentage() {\n",
    "        if (this.gamesWon == 0 && this.gamesLost == 0) {\n",
    "            this.winPercentage = 0;\n",
    "        }\n",
    "        this.winPercentage = 100 * (double)this.gamesWon \n",
    "               / (this.gamesWon + this.gamesLost);\n",
    "    }\n",
    "    \n",
    "    public boolean equals(Object o) {\n",
    "        if (o instanceof Team) {\n",
    "            Team other = (Team) o;\n",
    "            return this.gamesWon == other.getGamesWon() \n",
    "                   && this.gamesLost == other.getGamesLost()\n",
    "                   && this.name.equals(other.getName());\n",
    "        }\n",
    "        return false;\n",
    "    }\n",
    "    \n",
    "    public int compareTo(Object o) {\n",
    "        if (o instanceof Team) {\n",
    "            Team other = (Team) o;\n",
    "            return (int)(this.winPercentage - other.getWinPercentage());\n",
    "        }\n",
    "        return -1;\n",
    "    }\n",
    "    \n",
    "    public String toString() {\n",
    "        return String.format(\"%s: %d won %d lost, %.2f%%\",\n",
    "               this.name, this.gamesWon, this.gamesLost, \n",
    "               this.winPercentage);\n",
    "    }\n",
    "}"
   ]
  },
  {
   "cell_type": "code",
   "execution_count": null,
   "metadata": {},
   "outputs": [],
   "source": [
    "Team kings = new Team(\"Sacramento Kings\");\n",
    "Team lakers = new Team(\"LA Lakers\");\n",
    "\n",
    "System.out.println(kings.toString());\n",
    "System.out.println(lakers.toString());\n",
    "// if the kings beat the lakers\n",
    "Team.playGame(kings, lakers);\n",
    "System.out.println(kings.toString());\n",
    "System.out.println(lakers.toString());"
   ]
  },
  {
   "cell_type": "markdown",
   "metadata": {},
   "source": [
    "### Pass by Reference Value"
   ]
  },
  {
   "cell_type": "markdown",
   "metadata": {},
   "source": [
    "One of the major differences between primitive types and Objects is how they are represented in memory. We can visualize the computer memory as a array where the data at the $i$th index corresponds to memory address $i$:\n",
    "\n",
    "![memory](memory.png)\n",
    "\n",
    "When we define a primitive, for example `int primitive = 1;`, the variable `primitive` points to (aka references) some memory address $i$ and the data at memory address $i$ is the value of `primitive` (ie 1).\n",
    "\n",
    "![storing a primative](primitive_in_memory.png)\n",
    "\n",
    "However, when we define an Object, for exmample `SomeClass nonPrimitive = new SomeClass();`, the variable `nonPrimitive` references some memory address $j$ but the data at memory adress $j$ is another memory address $k$. The data at memory address $k$ is the data corresponding to `nonPrimitive`.\n",
    "\n",
    "![storing an object](non_primitive_in_memory.png)\n",
    "\n",
    "This distinction comes into play when we pass variables into methods. Java \"passes by reference value\". That means that when if I have a variable `x` that references some memory address $A$, when I pass `x` into a method the computer will copy the data at $A$ and save it at a new memory address $B$.\n",
    "\n",
    "If `x` is primitive, the data at $A$ is the value of `x`. So when we pass `x` into a method, the computer copies the valaue of `x` to $B$ and uses that memory address in when executing the method - effectively we copy `x` into a new variable and use that new variable in the method. The effect of this is that __if I pass a primitive variable into a method, changing the variable inside the method will not effect the variable outside of the method__. \n",
    "\n",
    "However, if `x` is not primitive, the data at $A$ is a reference to the data associated with `x`. So when we pass `x` into a method, the reference to the data is copied to $B$ and that memory address is used when executing the method. This effectively means that __if we call any methods on `x` that change `x` inside the method, those changes will effect the variable outside of the method__. However __if, inside the method, we set `x` to a new value, that changes the value of the reference at $B$ rather than the data referenced by $B$ so the value of `x` will not change outside the method__. "
   ]
  },
  {
   "cell_type": "code",
   "execution_count": 75,
   "metadata": {},
   "outputs": [],
   "source": [
    "public class SimpleClass {\n",
    "    \n",
    "    private int data;\n",
    "    \n",
    "    public SimpleClass(int x) {\n",
    "        this.data = x;\n",
    "    }\n",
    "    \n",
    "    public int getData() { return this.data; }\n",
    "    \n",
    "    public void makeSimpleClass(SimpleClass y) {\n",
    "        this.data = y.getData();\n",
    "    }\n",
    "    \n",
    "    public String toString() {\n",
    "        return \"SimpleClass: \" + this.data;\n",
    "    }\n",
    "}"
   ]
  },
  {
   "cell_type": "code",
   "execution_count": 76,
   "metadata": {},
   "outputs": [
    {
     "name": "stdout",
     "output_type": "stream",
     "text": [
      "varOne=10, varTwo=20\n",
      "varOne=10, varTwo=20\n"
     ]
    },
    {
     "data": {
      "text/plain": [
       "java.io.PrintStream@631330c"
      ]
     },
     "execution_count": 76,
     "metadata": {},
     "output_type": "execute_result"
    }
   ],
   "source": [
    "public static void attemptSwap(int x, int y) {\n",
    "    int temp = x;\n",
    "    x = y;\n",
    "    y = temp;\n",
    "}\n",
    "\n",
    "int varOne = 10;\n",
    "int varTwo = 20;\n",
    "System.out.printf(\"varOne=%d, varTwo=%d\\n\", varOne, varTwo);\n",
    "attemptSwap(varOne, varTwo);\n",
    "System.out.printf(\"varOne=%d, varTwo=%d\\n\", varOne, varTwo);"
   ]
  },
  {
   "cell_type": "code",
   "execution_count": 77,
   "metadata": {},
   "outputs": [
    {
     "name": "stdout",
     "output_type": "stream",
     "text": [
      "cOne=SimpleClass: 10, cTwo=SimpleClass: 20\n",
      "cOne=SimpleClass: 20, cTwo=SimpleClass: 10\n"
     ]
    },
    {
     "data": {
      "text/plain": [
       "java.io.PrintStream@631330c"
      ]
     },
     "execution_count": 77,
     "metadata": {},
     "output_type": "execute_result"
    }
   ],
   "source": [
    "public static void attemptSwap(SimpleClass x, SimpleClass y) {\n",
    "    SimpleClass temp = new SimpleClass(x.getData());\n",
    "    x.makeSimpleClass(y);\n",
    "    y.makeSimpleClass(temp);\n",
    "}\n",
    "\n",
    "SimpleClass cOne = new SimpleClass(10);\n",
    "SimpleClass cTwo = new SimpleClass(20);\n",
    "System.out.printf(\"cOne=%s, cTwo=%s\\n\", cOne.toString(), cTwo.toString());\n",
    "attemptSwap(cOne, cTwo);\n",
    "System.out.printf(\"cOne=%s, cTwo=%s\\n\", cOne.toString(), cTwo.toString());"
   ]
  },
  {
   "cell_type": "code",
   "execution_count": 79,
   "metadata": {},
   "outputs": [
    {
     "name": "stdout",
     "output_type": "stream",
     "text": [
      "cOne=SimpleClass: 10, cTwo=SimpleClass: 20\n",
      "cOne=SimpleClass: 10, cTwo=SimpleClass: 20\n"
     ]
    },
    {
     "data": {
      "text/plain": [
       "java.io.PrintStream@631330c"
      ]
     },
     "execution_count": 79,
     "metadata": {},
     "output_type": "execute_result"
    }
   ],
   "source": [
    "public static void attemptSwap(SimpleClass x, SimpleClass y) {\n",
    "    SimpleClass temp = x;\n",
    "    x = y;\n",
    "    y = temp;\n",
    "}\n",
    "\n",
    "SimpleClass cOne = new SimpleClass(10);\n",
    "SimpleClass cTwo = new SimpleClass(20);\n",
    "System.out.printf(\"cOne=%s, cTwo=%s\\n\", cOne.toString(), cTwo.toString());\n",
    "attemptSwap(cOne, cTwo);\n",
    "System.out.printf(\"cOne=%s, cTwo=%s\\n\", cOne.toString(), cTwo.toString());"
   ]
  },
  {
   "cell_type": "code",
   "execution_count": null,
   "metadata": {},
   "outputs": [],
   "source": []
  }
 ],
 "metadata": {
  "kernelspec": {
   "display_name": "Java",
   "language": "java",
   "name": "java"
  },
  "language_info": {
   "codemirror_mode": "java",
   "file_extension": ".java",
   "mimetype": "text/x-java-source",
   "name": "Java",
   "pygments_lexer": "java",
   "version": "9.0.1+11"
  }
 },
 "nbformat": 4,
 "nbformat_minor": 2
}
{
 "cells": [
  {
   "cell_type": "markdown",
   "metadata": {},
   "source": [
    "# Arrays"
   ]
  },
  {
   "cell_type": "markdown",
   "metadata": {},
   "source": [
    "Arrays are the most fundamental data structure in Java (and most mainstream programming languages). An array is, essentially a fixed length list of values of a specific type. \n",
    "\n",
    "## Array Basics\n",
    "\n",
    "### Creating and Printing Arrays\n",
    "\n",
    "We can create an array in two ways:"
   ]
  },
  {
   "cell_type": "code",
   "execution_count": 4,
   "metadata": {},
   "outputs": [],
   "source": [
    "int[] arrOne = new int[10];"
   ]
  },
  {
   "cell_type": "markdown",
   "metadata": {},
   "source": [
    "The code above creates a new, empty array. In this array each element is of type `int` and the array is of size 10. "
   ]
  },
  {
   "cell_type": "code",
   "execution_count": 2,
   "metadata": {},
   "outputs": [],
   "source": [
    "int[] arrTwo = {1, 2, 3, 4, 5};"
   ]
  },
  {
   "cell_type": "markdown",
   "metadata": {},
   "source": [
    "The code above creates a new prefilled array. (this is called the list initializer method)."
   ]
  },
  {
   "cell_type": "markdown",
   "metadata": {},
   "source": [
    "In Java, arrays are non-primitive data types (objects). Therefore the variable `arrOne` technically is a \"reference\" which points to the memory location where the array data is being stored. So we can't print an array directly using `System.out.println`. "
   ]
  },
  {
   "cell_type": "code",
   "execution_count": 12,
   "metadata": {},
   "outputs": [
    {
     "name": "stdout",
     "output_type": "stream",
     "text": [
      "[I@4d41cee\n"
     ]
    }
   ],
   "source": [
    "System.out.println(arrOne);"
   ]
  },
  {
   "cell_type": "markdown",
   "metadata": {},
   "source": [
    "Instead we need to use a for loop to access each element individually. "
   ]
  },
  {
   "cell_type": "code",
   "execution_count": 20,
   "metadata": {},
   "outputs": [],
   "source": [
    "/**\n",
    " * Prints an array of integers. The same idea can be used to print any\n",
    " * array - just change the data type of the array and add a call to \n",
    " * toString if you're dealing with non-primitives. \n",
    " * @param arr the array to print\n",
    " */\n",
    "public static void printIntegerArray(int[] arr) {\n",
    "    String toPrint = \"[\";\n",
    "    for (int i = 0; i < arr.length; i++) {\n",
    "        toPrint += arr[i] + \", \";\n",
    "    }\n",
    "    toPrint = toPrint.substring(0, toPrint.length() - 2) + \"]\";\n",
    "    System.out.println(toPrint);\n",
    "}\n",
    "\n",
    "public static void printObjectArray(Object[] arr) {\n",
    "    String toPrint = \"[\";\n",
    "    for (int i = 0; i < arr.length; i++) {\n",
    "        toPrint += arr[i] + \", \";\n",
    "    }\n",
    "    toPrint = toPrint.substring(0, toPrint.length() - 2) + \"]\";\n",
    "    System.out.println(toPrint);\n",
    "}\n"
   ]
  },
  {
   "cell_type": "markdown",
   "metadata": {},
   "source": [
    "Observe in the for loops above we called `arr.length` instead of `arr.length()`. That is because the length field in the Array class is a variable, not a method (as it is in the String class)."
   ]
  },
  {
   "cell_type": "markdown",
   "metadata": {},
   "source": [
    "### Accessing array elements\n",
    "\n",
    "We can access each element in an array using bracket notation. `arrOne[2]` refers to the 2nd index in `arrOne`. Recall that Java indexes at 0, so the 2nd index is actually the 3rd position. "
   ]
  },
  {
   "cell_type": "code",
   "execution_count": 14,
   "metadata": {},
   "outputs": [
    {
     "name": "stdout",
     "output_type": "stream",
     "text": [
      "[0, 1, 4, 9, 16, 25, 36, 49, 64, 81]\n"
     ]
    }
   ],
   "source": [
    "for (int i = 0; i < arrOne.length; i++) {\n",
    "    arrOne[i] = (int)Math.pow(i, 2);\n",
    "}\n",
    "\n",
    "printIntegerArray(arrOne);"
   ]
  },
  {
   "cell_type": "code",
   "execution_count": 15,
   "metadata": {},
   "outputs": [
    {
     "name": "stdout",
     "output_type": "stream",
     "text": [
      "[0, -1, 4, -9, 16, -25, 36, -49, 64, -81]\n"
     ]
    }
   ],
   "source": [
    "for (int i = 1; i < arrOne.length; i+=2) {\n",
    "    arrOne[i] = -1*arrOne[i];\n",
    "}\n",
    "\n",
    "printIntegerArray(arrOne);"
   ]
  },
  {
   "cell_type": "markdown",
   "metadata": {},
   "source": [
    "#### The For-Each Loop\n",
    "\n",
    "The for-each loop is a special way to write a for loop to make accessing array elements a bit less wordy. \n",
    "\n",
    "Instead of "
   ]
  },
  {
   "cell_type": "code",
   "execution_count": 30,
   "metadata": {},
   "outputs": [
    {
     "name": "stdout",
     "output_type": "stream",
     "text": [
      "0 -1 4 -9 16 -25 36 -49 64 -81 "
     ]
    }
   ],
   "source": [
    "for (int i = 0; i < arrOne.length; i++) {\n",
    "    System.out.printf(\"%d \", arrOne[i]);\n",
    "}"
   ]
  },
  {
   "cell_type": "markdown",
   "metadata": {},
   "source": [
    "I can write"
   ]
  },
  {
   "cell_type": "code",
   "execution_count": 31,
   "metadata": {},
   "outputs": [
    {
     "name": "stdout",
     "output_type": "stream",
     "text": [
      "0 -1 4 -9 16 -25 36 -49 64 -81 "
     ]
    }
   ],
   "source": [
    "for (int e : arrOne) {\n",
    "    System.out.printf(\"%d \", e);\n",
    "}"
   ]
  },
  {
   "cell_type": "markdown",
   "metadata": {},
   "source": [
    "The syntax of this loop is \n",
    "```Java\n",
    "for (<data_type> <var_name> : <array>) {\n",
    "    // do something with var_name\n",
    "}\n",
    "```\n",
    "The loop sets `var_name` to each element in `<array>` (in order) and executes the body of the loop. It's the exact same idea as the traditional for loop above. The one caveat with this type of loop is that you can't use it to change the value of the array elements - you can see, use, and copy, but not change the values. "
   ]
  },
  {
   "cell_type": "code",
   "execution_count": 34,
   "metadata": {},
   "outputs": [
    {
     "name": "stdout",
     "output_type": "stream",
     "text": [
      "[1, 2, 3, 4, 5]\n",
      "[10, 10, 10, 10, 10]\n"
     ]
    }
   ],
   "source": [
    "for (int x : arrTwo) {\n",
    "    x = 10;\n",
    "}\n",
    "printIntegerArray(arrTwo);\n",
    "\n",
    "for (int i = 0; i < arrTwo.length; i++) {\n",
    "    arrTwo[i] = 10;\n",
    "}\n",
    "printIntegerArray(arrTwo);"
   ]
  },
  {
   "cell_type": "markdown",
   "metadata": {},
   "source": [
    "#### Instantiating Arrays\n",
    "\n",
    "When we first instantiate an array, the array is filled with \"empty values\" of the specific type. If the array type is a primitive, every element in the array will be set to 0. If the array type is non-primitive, every element in the array will be set to `Null`. `Null` is a special value which means that a variable has been declared but not defined - you can think of it as 0 for non-primitives. You may see `None` used instead of `Null` in other languages - they mean the same thing. "
   ]
  },
  {
   "cell_type": "code",
   "execution_count": 48,
   "metadata": {},
   "outputs": [],
   "source": [
    "public class Square {\n",
    "\n",
    "    private double length;\n",
    "    \n",
    "    public Square(double len) {\n",
    "        if (len < 0) {\n",
    "            this.length = 1;\n",
    "            return;\n",
    "        }\n",
    "        this.length = len;\n",
    "    }\n",
    "    \n",
    "    public double getSideLength() { return this.length; }\n",
    "    public double getArea() { return Math.pow(this.length, 2); }\n",
    "    \n",
    "    public void setSideLength(double len) {\n",
    "        if (len <= 0) {\n",
    "            System.out.println(\"Invalid length\");\n",
    "        }\n",
    "        this.length = len;\n",
    "    }\n",
    "    \n",
    "    public String toString() {\n",
    "        return String.format(\"Square with side length = %.2f\", this.length);\n",
    "    }\n",
    "}"
   ]
  },
  {
   "cell_type": "code",
   "execution_count": 49,
   "metadata": {},
   "outputs": [
    {
     "name": "stdout",
     "output_type": "stream",
     "text": [
      "Empty array of ints (primitive)\n",
      "[0, 0, 0, 0, 0, 0, 0, 0, 0, 0]\n",
      "\n",
      "Empty array of Circles (non-primitive)\n",
      "[null, null, null, null, null, null, null, null, null, null]\n"
     ]
    }
   ],
   "source": [
    "int[] emptyArray = new int[10];\n",
    "System.out.println(\"Empty array of ints (primitive)\");\n",
    "printIntegerArray(emptyArray);\n",
    "\n",
    "System.out.println();\n",
    "\n",
    "System.out.println(\"Empty array of Circles (non-primitive)\");\n",
    "Square[] emptyArray = new Square[10];\n",
    "printObjectArray(emptyArray);"
   ]
  },
  {
   "cell_type": "markdown",
   "metadata": {},
   "source": [
    "### Common Array Errors\n",
    "\n",
    "#### NullPointerException\n",
    "\n",
    "A `NullPointerException` occurs when you attempt to do something to a `Null` object. Recall that a `Null` object has not been defined (initialized) so trying to do anything to it makes no sense. You will often see `NullPointerExceptions` when you haven't initialized the elements in your array yet. "
   ]
  },
  {
   "cell_type": "code",
   "execution_count": 51,
   "metadata": {},
   "outputs": [
    {
     "ename": "EvalException",
     "evalue": "",
     "output_type": "error",
     "traceback": [
      "\u001b[1m\u001b[31m---------------------------------------------------------------------------\u001b[0m",
      "\u001b[1m\u001b[31mjava.lang.NullPointerException: \u001b[0m",
      "\u001b[1m\u001b[31m\tat .(#105:1)\u001b[0m"
     ]
    }
   ],
   "source": [
    "Square[] squares = new Square[5];\n",
    "for (int i = 0; i < circles.length; i++) {\n",
    "    squares[i].setSideLength(2*(i+1));\n",
    "}"
   ]
  },
  {
   "cell_type": "code",
   "execution_count": 52,
   "metadata": {},
   "outputs": [
    {
     "name": "stdout",
     "output_type": "stream",
     "text": [
      "[Square with side length = 2.00, Square with side length = 4.00, Square with side length = 6.00, Square with side length = 8.00, Square with side length = 10.00]\n"
     ]
    }
   ],
   "source": [
    "Square[] squares = new Square[5];\n",
    "for (int i = 0; i < circles.length; i++) {\n",
    "    squares[i] = new Square(1);\n",
    "    squares[i].setSideLength(2*(i+1));\n",
    "}\n",
    "printObjectArray(squares);"
   ]
  },
  {
   "cell_type": "markdown",
   "metadata": {},
   "source": [
    "The examples above are pretty simple - usually you'll see a `NullPointerException` because you've only filled an array part of the way or you moved elements around or something like that. "
   ]
  },
  {
   "cell_type": "markdown",
   "metadata": {},
   "source": [
    "#### ArrayindexOutOfBounds\n",
    "\n",
    "An `ArrayIndexOutOfBounds` exception is the same idea as a `StringIndexOutOfBoundsException`. Essentially you are trying to access an index that doesn't exist. "
   ]
  },
  {
   "cell_type": "code",
   "execution_count": 53,
   "metadata": {},
   "outputs": [
    {
     "ename": "EvalException",
     "evalue": "10",
     "output_type": "error",
     "traceback": [
      "\u001b[1m\u001b[31m---------------------------------------------------------------------------\u001b[0m",
      "\u001b[1m\u001b[31mjava.lang.ArrayIndexOutOfBoundsException: 10\u001b[0m",
      "\u001b[1m\u001b[31m\tat .(#108:1)\u001b[0m"
     ]
    }
   ],
   "source": [
    "Square sq = squares[10];"
   ]
  },
  {
   "cell_type": "code",
   "execution_count": 44,
   "metadata": {},
   "outputs": [
    {
     "ename": "EvalException",
     "evalue": "-1",
     "output_type": "error",
     "traceback": [
      "\u001b[1m\u001b[31m---------------------------------------------------------------------------\u001b[0m",
      "\u001b[1m\u001b[31mjava.lang.ArrayIndexOutOfBoundsException: -1\u001b[0m",
      "\u001b[1m\u001b[31m\tat .(#90:1)\u001b[0m"
     ]
    }
   ],
   "source": [
    "Square sq = square[-1];"
   ]
  },
  {
   "cell_type": "markdown",
   "metadata": {},
   "source": [
    "## N-Dimensional Arrays"
   ]
  },
  {
   "cell_type": "markdown",
   "metadata": {},
   "source": [
    "The arrays we've talked above have all been one dimensional - if you're a math person you can think of them as vectors (or if you're a non-math person just a list of values). However, arrays can be N-dimensional. Here we'll show 2D arrays, but the syntax can be generalized to N-dimensions. "
   ]
  },
  {
   "cell_type": "markdown",
   "metadata": {},
   "source": [
    "We can create a 2D array as follows:"
   ]
  },
  {
   "cell_type": "code",
   "execution_count": 45,
   "metadata": {},
   "outputs": [],
   "source": [
    "int[][] twoDArray = new int[5][10];"
   ]
  },
  {
   "cell_type": "markdown",
   "metadata": {},
   "source": [
    "This creates a 2D integer array with 5 rows and 10 columns. \n",
    "A 2D array is an \"array of arrays\". So `twoDArray[1]` refers to the length 10 integer array at index 1 (position 2).\n",
    "\n",
    "The semantics of using a 2D array are the same as those of a 1D array. "
   ]
  },
  {
   "cell_type": "code",
   "execution_count": 46,
   "metadata": {},
   "outputs": [
    {
     "name": "stdout",
     "output_type": "stream",
     "text": [
      "[\n",
      "[0, 0, 0, 0, 0, 0, 0, 0, 0, 0]\n",
      "[0, 1, 2, 3, 4, 5, 6, 7, 8, 9]\n",
      "[0, 2, 4, 6, 8, 10, 12, 14, 16, 18]\n",
      "[0, 3, 6, 9, 12, 15, 18, 21, 24, 27]\n",
      "[0, 4, 8, 12, 16, 20, 24, 28, 32, 36]\n",
      "]\n"
     ]
    }
   ],
   "source": [
    "for (int i = 0; i < twoDArray.length; i++) {\n",
    "    for (int j = 0; j < twoDArray[i].length; j++) {\n",
    "        twoDArray[i][j] = i*j;\n",
    "    }\n",
    "}\n",
    "\n",
    "System.out.println(\"[\");\n",
    "for (int i = 0; i < twoDArray.length; i++) {\n",
    "    printIntegerArray(twoDArray[i]);\n",
    "}\n",
    "System.out.println(\"]\");"
   ]
  },
  {
   "cell_type": "markdown",
   "metadata": {},
   "source": [
    "# Array practice problems\n",
    "\n",
    "- CodingBat easy: http://codingbat.com/java/Array-1\n",
    "- CodingBat medium: http://codingbat.com/java/Array-2\n",
    "- CodingBat hard: http://codingbat.com/java/Array-3\n",
    "- https://www.w3resource.com/java-exercises/array/index.php\n",
    "- http://javarevisited.blogspot.com/2015/06/top-20-array-interview-questions-and-answers.html\n"
   ]
  }
 ],
 "metadata": {
  "kernelspec": {
   "display_name": "Java",
   "language": "java",
   "name": "java"
  },
  "language_info": {
   "codemirror_mode": "java",
   "file_extension": ".java",
   "mimetype": "text/x-java-source",
   "name": "Java",
   "pygments_lexer": "java",
   "version": "9.0.1+11"
  }
 },
 "nbformat": 4,
 "nbformat_minor": 2
}

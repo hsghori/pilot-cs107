{
 "cells": [
  {
   "cell_type": "markdown",
   "metadata": {},
   "source": [
    "# Random Numbers"
   ]
  },
  {
   "cell_type": "markdown",
   "metadata": {},
   "source": [
    "Sometimes we may want to generate a random number as part of our program\n",
    "(we could be writing a board game that uses a dice, simulating a\n",
    "biological process, or testing another program). Java has a specific\n",
    "module designed to handle random number generation.\\\n",
    "To use this module we must import the Random class and declare a new\n",
    "Random object - keep in mind you only need to declare one random object\n",
    "even if you want to generate multiple random variables. \n",
    "\n",
    "If we have `Random gen = new Random();`\n",
    "\n",
    "-   `gen.nextInt();`\\\n",
    "    Returns a random integer.\n",
    "-   `gen.nextInt(x);`\\\n",
    "    Returns a random integer between 0 and x (not including x).\n",
    "-   `gen.nextDouble();`\\\n",
    "    Returns a random double between 0 and 1.\n",
    "-   `gen.nextBoolean();`\\\n",
    "    Returns a random boolean value (true or false).\n",
    "-   `gen.nextGaussian();`\\\n",
    "    Returns a random double from the Gaussian (Normal) distribution with\n",
    "    mean 0 and standard deviation 1."
   ]
  },
  {
   "cell_type": "code",
   "execution_count": 1,
   "metadata": {},
   "outputs": [],
   "source": [
    "Random gen = new Random();"
   ]
  },
  {
   "cell_type": "code",
   "execution_count": 2,
   "metadata": {},
   "outputs": [
    {
     "data": {
      "text/plain": [
       "-1638181902"
      ]
     },
     "execution_count": 2,
     "metadata": {},
     "output_type": "execute_result"
    }
   ],
   "source": [
    "gen.nextInt();"
   ]
  },
  {
   "cell_type": "code",
   "execution_count": 4,
   "metadata": {},
   "outputs": [
    {
     "data": {
      "text/plain": [
       "2"
      ]
     },
     "execution_count": 4,
     "metadata": {},
     "output_type": "execute_result"
    }
   ],
   "source": [
    "int upper = 10;\n",
    "\n",
    "gen.nextInt(upper);"
   ]
  },
  {
   "cell_type": "code",
   "execution_count": 5,
   "metadata": {},
   "outputs": [
    {
     "data": {
      "text/plain": [
       "0.45291309133568547"
      ]
     },
     "execution_count": 5,
     "metadata": {},
     "output_type": "execute_result"
    }
   ],
   "source": [
    "gen.nextDouble();"
   ]
  },
  {
   "cell_type": "code",
   "execution_count": 8,
   "metadata": {},
   "outputs": [
    {
     "data": {
      "text/plain": [
       "true"
      ]
     },
     "execution_count": 8,
     "metadata": {},
     "output_type": "execute_result"
    }
   ],
   "source": [
    "gen.nextBoolean();"
   ]
  },
  {
   "cell_type": "code",
   "execution_count": 9,
   "metadata": {},
   "outputs": [
    {
     "data": {
      "text/plain": [
       "0.004569633674128457"
      ]
     },
     "execution_count": 9,
     "metadata": {},
     "output_type": "execute_result"
    }
   ],
   "source": [
    "gen.nextGaussian();"
   ]
  },
  {
   "cell_type": "markdown",
   "metadata": {},
   "source": [
    "We can use these methods to generate random integers and floats between\n",
    "L (inclusive) and H (exclusive).\n",
    "-   `gen.nextInt(H-L+1) + L`\n",
    "    Returns a random integer between L and H (inclusive).\n",
    "-   `gen.nextDouble()*(H-L) + L`\n",
    "    Returns a random double between L and H (inclusive).\n",
    "\n",
    "The complete list of random number generation methods can be found in [the documentation](https://docs.oracle.com/javase/7/docs/api/java/util/Random.html)"
   ]
  },
  {
   "cell_type": "code",
   "execution_count": 10,
   "metadata": {},
   "outputs": [],
   "source": [
    "int low = -10;\n",
    "int high = 10;\n",
    "\n",
    "Random gen = new Random();"
   ]
  },
  {
   "cell_type": "code",
   "execution_count": 11,
   "metadata": {},
   "outputs": [
    {
     "data": {
      "text/plain": [
       "-3"
      ]
     },
     "execution_count": 11,
     "metadata": {},
     "output_type": "execute_result"
    }
   ],
   "source": [
    "gen.nextInt(high - low + 1) + low;"
   ]
  },
  {
   "cell_type": "code",
   "execution_count": 12,
   "metadata": {},
   "outputs": [
    {
     "data": {
      "text/plain": [
       "2.864780372776144"
      ]
     },
     "execution_count": 12,
     "metadata": {},
     "output_type": "execute_result"
    }
   ],
   "source": [
    "gen.nextDouble() * (high - low) + low;"
   ]
  },
  {
   "cell_type": "markdown",
   "metadata": {},
   "source": [
    "The following program takes two doubles as inputs (high and low) and\n",
    "prints two random numbers - the first is a random integer between high\n",
    "and low (inclusive) and the second a random double between high and low\n",
    "(inclusive)."
   ]
  },
  {
   "cell_type": "code",
   "execution_count": 16,
   "metadata": {},
   "outputs": [
    {
     "name": "stdout",
     "output_type": "stream",
     "text": [
      "A random number between 10 and 100 is 17\n",
      "A random double between 10.300000 and 100.500000 is 81.442010\n"
     ]
    }
   ],
   "source": [
    "import java.util.Random;\n",
    "import java.util.Scanner;\n",
    "\n",
    "public class RandomExample {\n",
    "\n",
    "    public static void main(String[] args) {\n",
    "        Scanner kb = new Scanner(System.in);\n",
    "        Random gen = new Random();\n",
    "        double high = kb.nextDouble();\n",
    "        double low = kb.nextDouble();\n",
    "        // note that (int) high casts the double variable \"high\" to an integer\n",
    "        int randInt = gen.nextInt((int) high - (int) low + 1) + (int) low;\n",
    "        double randDouble = gen.nextDouble() * (high-low) + low;\n",
    "        System.out.printf(\"A random number between %d and %d is %d\\n\", (int)low, (int)high, randInt);\n",
    "        System.out.printf(\"A random double between %f and %f is %f\\n\", low, high, randDouble);\n",
    "    }\n",
    "}\n",
    "\n",
    "// simulates typing \"12\" as input\n",
    "String data = \"100.5 10.3\";\n",
    "System.setIn(new ByteArrayInputStream(data.getBytes()));\n",
    "String[] args = {};\n",
    "RandomExample.main(args);"
   ]
  },
  {
   "cell_type": "code",
   "execution_count": null,
   "metadata": {},
   "outputs": [],
   "source": []
  }
 ],
 "metadata": {
  "kernelspec": {
   "display_name": "Java",
   "language": "java",
   "name": "java"
  },
  "language_info": {
   "codemirror_mode": "java",
   "file_extension": ".java",
   "mimetype": "text/x-java-source",
   "name": "Java",
   "pygments_lexer": "java",
   "version": "9.0.1+11"
  }
 },
 "nbformat": 4,
 "nbformat_minor": 2
}

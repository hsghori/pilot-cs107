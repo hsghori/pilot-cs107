{
 "cells": [
  {
   "cell_type": "markdown",
   "metadata": {},
   "source": [
    "# Control Flow"
   ]
  },
  {
   "cell_type": "markdown",
   "metadata": {},
   "source": [
    "## Boolean Statements\n",
    "\n",
    "Boolean is one of the primitive data types in Java. A boolean variable\n",
    "can take on two values, true or false and can be created using\n",
    "combinations of relational statements and boolean variables chained\n",
    "together by logical operators.\n",
    "\n",
    "**Relational Operators**\n",
    "- `<` less than\n",
    "- `>` greater than\n",
    "- `<=` less than or equal to\n",
    "- `>=` greater than or equal to\n",
    "- `==` check for equality\n",
    "- `!=` not equal\n",
    "\n",
    "**Logical Operators**\n",
    "- `&&` and\n",
    "- `||` or\n",
    "- `!` not\n",
    "\n",
    "`A && B` is true if `A` and `B` both evaluate to true. \n",
    "Otherwise `A && B` is false.\n",
    "\n",
    "`A || B` is true if either `A` or `B` are true.\n",
    "Otherwise `A || B` is false.\n",
    "\n",
    "`!A` is true if A is false. Otherwise `!A` is false.\n",
    "\n",
    "\n",
    "| `A` | `B` | `A and B` |\n",
    "|-----|-----|----------|\n",
    "|true|true|true|\n",
    "|true|false|false|\n",
    "|false|true|false|\n",
    "|false|false|false|\n",
    "\n",
    "\n",
    "|`A`|`B`|`A or B`|\n",
    "|---|---|------|\n",
    "|true|true|true|\n",
    "|true|false|true|\n",
    "|false|true|true|\n",
    "|false|false|false|\n",
    "\n",
    "\n",
    "| `A` | `!A` |\n",
    "|-----|------|\n",
    "|true|false|\n",
    "|false|true|"
   ]
  },
  {
   "cell_type": "code",
   "execution_count": 9,
   "metadata": {},
   "outputs": [
    {
     "data": {
      "text/plain": [
       "true"
      ]
     },
     "execution_count": 9,
     "metadata": {},
     "output_type": "execute_result"
    }
   ],
   "source": [
    "boolean x = 5 < 10;\n",
    "x;"
   ]
  },
  {
   "cell_type": "code",
   "execution_count": 8,
   "metadata": {},
   "outputs": [
    {
     "data": {
      "text/plain": [
       "false"
      ]
     },
     "execution_count": 8,
     "metadata": {},
     "output_type": "execute_result"
    }
   ],
   "source": [
    "boolean y = 5 > 10;\n",
    "y;"
   ]
  },
  {
   "cell_type": "code",
   "execution_count": 11,
   "metadata": {},
   "outputs": [
    {
     "data": {
      "text/plain": [
       "false"
      ]
     },
     "execution_count": 11,
     "metadata": {},
     "output_type": "execute_result"
    }
   ],
   "source": [
    "x && y; "
   ]
  },
  {
   "cell_type": "code",
   "execution_count": 12,
   "metadata": {},
   "outputs": [
    {
     "data": {
      "text/plain": [
       "true"
      ]
     },
     "execution_count": 12,
     "metadata": {},
     "output_type": "execute_result"
    }
   ],
   "source": [
    "x || y; "
   ]
  },
  {
   "cell_type": "markdown",
   "metadata": {},
   "source": [
    "The not (`!`) operator can be distributed using De Morgan's Laws:\n",
    "\n",
    "```\n",
    "!(A && B) = !A || !B\n",
    "!(A || B) = !A && !B\n",
    "```"
   ]
  },
  {
   "cell_type": "markdown",
   "metadata": {},
   "source": [
    "## If, Else If, and Else\n",
    "\n",
    "If/Else if/Else blocks are used to execute specific lines of code based\n",
    "on a set of conditions. There are several ways to use these blocks.\\\n",
    "If I want to execute a block of code only if a condition is true I would\n",
    "use an if statement. An if statement is paired with a specific boolean\n",
    "expression (condition). If that boolean expression evaluates to true,\n",
    "the code inside the if block is executed. Otherwise, the code is not\n",
    "executed."
   ]
  },
  {
   "cell_type": "code",
   "execution_count": 14,
   "metadata": {},
   "outputs": [
    {
     "name": "stdout",
     "output_type": "stream",
     "text": [
      "val was greater than 5\n"
     ]
    }
   ],
   "source": [
    "int val = 10;\n",
    "if (val > 5) {\n",
    "    // inside the if block\n",
    "    System.out.println(\"val was greater than 5\");\n",
    "}"
   ]
  },
  {
   "cell_type": "markdown",
   "metadata": {},
   "source": [
    "If I want to execute a block of code if a condition is true and a\n",
    "completely different block if the condition is false I would use an if\n",
    "block paired with an else block. An else block comes after an if (or\n",
    "else if, see below) and is executed if the if statement's boolean\n",
    "condition evaluates to false. In the example below, we want to print one\n",
    "statement if the user entered a value greater than 5 and a completely\n",
    "different statement otherwise."
   ]
  },
  {
   "cell_type": "code",
   "execution_count": 15,
   "metadata": {},
   "outputs": [
    {
     "name": "stdout",
     "output_type": "stream",
     "text": [
      "val was less than or equal to 5\n"
     ]
    }
   ],
   "source": [
    "int val = 2;\n",
    "if (val > 5) {\n",
    "    // inside the if block\n",
    "    System.out.println(\"val was greater than 5\");\n",
    "}\n",
    "else {\n",
    "    // inside the else block\n",
    "    System.out.println(\"val was less than or equal to 5\");\n",
    "}"
   ]
  },
  {
   "cell_type": "markdown",
   "metadata": {},
   "source": [
    "If I want to execute a different block of code based on more than two\n",
    "possible outcomes (ie one block if condition\\_1 is true, another if\n",
    "condition\\_2 is true, another if condition\\_3 is true, etc) I would use\n",
    "an if block paired with else if blocks and optionally a final else\n",
    "block. A set of else if block comes after an if block. Each individual\n",
    "else if is paired with a boolean conditions - if none of the conditions\n",
    "above were true and the else if's condition is true, that block of code\n",
    "gets executed. If none of the if or else if blocks get executed, the\n",
    "else block is executed."
   ]
  },
  {
   "cell_type": "code",
   "execution_count": 17,
   "metadata": {},
   "outputs": [
    {
     "name": "stdout",
     "output_type": "stream",
     "text": [
      "B\n"
     ]
    }
   ],
   "source": [
    "double grade = 88.7;\n",
    "if (grade > 90) {\n",
    "    System.out.println(\"A\");\n",
    "}\n",
    "else if (grade > 80) {\n",
    "    System.out.println(\"B\");\n",
    "}\n",
    "else if (grade > 70) {\n",
    "    System.out.println(\"C\");\n",
    "}\n",
    "else if (grade > 60) {\n",
    "    System.out.println(\"D\");\n",
    "}\n",
    "else {\n",
    "    System.out.println(\"F\");\n",
    "}"
   ]
  },
  {
   "cell_type": "markdown",
   "metadata": {},
   "source": [
    "## Switch\n",
    "\n",
    "A switch statements is used when we want to perform a specific action if\n",
    "a primitive variable or String is equal to a specific value. Instead of\n",
    "writing:\n",
    "\n",
    "```Java\n",
    "if (x == value1) {\n",
    "    // statements\n",
    "}\n",
    "else if (x == value2) {\n",
    "    // statements\n",
    "}\n",
    "else {\n",
    "    // statements\n",
    "}\n",
    "```\n",
    "\n",
    "We can write:\n",
    "\n",
    "```Java\n",
    "switch (x) {\n",
    "    case value1:\n",
    "        // statements\n",
    "        break;\n",
    "    case value2:\n",
    "        // statements\n",
    "        break;\n",
    "    default:\n",
    "        // statements\n",
    "        break;\n",
    "}\n",
    "```\n",
    "\n",
    "Nore that the default case corresponds to the \"else\" block in an if /\n",
    "else if / else structure. The `break` keyword breaks out of the switch\n",
    "structure. If you don't end a case with a `break`, the program will\n",
    "simply move on through to the next case. This behavior gives us a bit\n",
    "more flexibility than if/else if statements when it comes to \\\"or\\\"\n",
    "behaviors. If you want to have an \\\"or\\\" type statements with multiple\n",
    "variables (ie if x == X or x == Y) we can exclude the break statement\n",
    "and let the cases merge.\n",
    "\n",
    "```Java\n",
    "switch (x) {\n",
    "    case value1:\n",
    "    case value2:\n",
    "        // statements\n",
    "        break;\n",
    "    default:\n",
    "        // statements\n",
    "        break;\n",
    "}\n",
    "```\n",
    "\n",
    "Is the same as\n",
    "\n",
    "```Java\n",
    "if (x == value1 || x == value2) {\n",
    "    // statements\n",
    "}\n",
    "else {\n",
    "    // statements\n",
    "}\n",
    "```\n",
    "\n",
    "Or say we have three possible actions A, B, and C. If the user enters\n",
    "'a' we want to perform 'Action A', if the user enters 'b' we want to\n",
    "perform 'Action B' and then 'Action A', and if the user enters anything\n",
    "else we want to perform 'C'. Below are examples of how you could do this\n",
    "with a switch and an if/else if/else structure. Notice how the switch\n",
    "statement is syntactically cleaner than the if/else if/else (though both\n",
    "are technically right).\n",
    "\n",
    "```Java\n",
    "// switch example\n",
    "char choice = kb.next().charAt(0);\n",
    "switch (choice) {\n",
    "    case 'b':\n",
    "        // do B\n",
    "    case 'a':\n",
    "        // do A\n",
    "        break;\n",
    "    default:\n",
    "        // do C\n",
    "}\n",
    "```\n",
    "\n",
    "```Java\n",
    "// if / else if / else example\n",
    "char choice = kb.next().charAt(0);\n",
    "if (x == 'a') {\n",
    "    // do A\n",
    "}\n",
    "if (x == 'b')\n",
    "    // do A\n",
    "    // do B\n",
    "}\n",
    "if ( z != 'a' && x != 'b') {\n",
    "    // do C\n",
    "}\n",
    "```"
   ]
  },
  {
   "cell_type": "code",
   "execution_count": 21,
   "metadata": {},
   "outputs": [
    {
     "name": "stdout",
     "output_type": "stream",
     "text": [
      "Pass!\n"
     ]
    }
   ],
   "source": [
    "String grade = \"B\";\n",
    "\n",
    "switch(grade) {\n",
    "    case \"A\":\n",
    "    case \"B\":\n",
    "    case \"C\":\n",
    "        System.out.println(\"Pass!\");\n",
    "        break;\n",
    "    case \"D\":\n",
    "        System.out.println(\"Pass but can't take the next class\");\n",
    "        break;\n",
    "    case \"F\":\n",
    "        System.out.println(\"Failed\");\n",
    "        break;\n",
    "    default:\n",
    "        System.out.println(\"Invalid grade \" + grade);\n",
    "        break;\n",
    "}"
   ]
  },
  {
   "cell_type": "code",
   "execution_count": null,
   "metadata": {},
   "outputs": [],
   "source": []
  }
 ],
 "metadata": {
  "kernelspec": {
   "display_name": "Java",
   "language": "java",
   "name": "java"
  },
  "language_info": {
   "codemirror_mode": "java",
   "file_extension": ".java",
   "mimetype": "text/x-java-source",
   "name": "Java",
   "pygments_lexer": "java",
   "version": "9.0.1+11"
  }
 },
 "nbformat": 4,
 "nbformat_minor": 2
}

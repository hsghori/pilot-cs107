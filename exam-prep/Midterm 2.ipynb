{
 "cells": [
  {
   "cell_type": "markdown",
   "metadata": {},
   "source": [
    "- Recursion\n",
    "- Instantiable Classes\n",
    "- 1D Arrays\n",
    "- 2D Arrays\n"
   ]
  },
  {
   "cell_type": "code",
   "execution_count": 3,
   "metadata": {},
   "outputs": [
    {
     "name": "stdout",
     "output_type": "stream",
     "text": [
      "20\n",
      "30\n"
     ]
    }
   ],
   "source": [
    "int someMethod(int x) {\n",
    "    x += 10;\n",
    "    return x;\n",
    "}\n",
    "int x = 20;\n",
    "someMethod(x);\n",
    "System.out.println(x);\n",
    "x = someMethod(x);\n",
    "System.out.println(x);"
   ]
  },
  {
   "cell_type": "markdown",
   "metadata": {},
   "source": [
    "$$F(n) = F(n-1) + F(n-2)$$\n",
    "$$F(0) = 0$$\n",
    "$$F(1) = 1$$"
   ]
  },
  {
   "cell_type": "code",
   "execution_count": 5,
   "metadata": {},
   "outputs": [],
   "source": [
    "public static int inc(int a) {\n",
    "    return a + 1;\n",
    "}\n",
    "\n",
    "public static int dec(int a) {\n",
    "    return a - 1;\n",
    "}\n",
    "\n",
    "public int add(int a, int b) {\n",
    "    //base case\n",
    "    if (b == 0) {\n",
    "        return a;\n",
    "    }\n",
    "    return inc(add(a, dec(b)));\n",
    "}\n",
    "\n"
   ]
  },
  {
   "cell_type": "code",
   "execution_count": 6,
   "metadata": {},
   "outputs": [
    {
     "data": {
      "text/plain": [
       "13"
      ]
     },
     "execution_count": 6,
     "metadata": {},
     "output_type": "execute_result"
    }
   ],
   "source": [
    "add(5, 8)"
   ]
  },
  {
   "cell_type": "code",
   "execution_count": 10,
   "metadata": {},
   "outputs": [
    {
     "name": "stdout",
     "output_type": "stream",
     "text": [
      "Name: Adam\n"
     ]
    }
   ],
   "source": [
    "public class Student {\n",
    "    private String name;\n",
    "    private double gpa;\n",
    "    private int studentID;\n",
    "    private int courses;\n",
    "    \n",
    "    public Student(String name) {\n",
    "        this.name = name;\n",
    "        this.gpa = 4.0;\n",
    "        this.studentID = 5555;\n",
    "        this.courses = 0;\n",
    "    }\n",
    "    \n",
    "    public void takeCourse() {\n",
    "        this.courses++;\n",
    "    }\n",
    "    \n",
    "    public String getName() {\n",
    "        return this.name;\n",
    "    }\n",
    "    \n",
    "    public void setName(String name) {\n",
    "        this.name = name;\n",
    "    }\n",
    "    \n",
    "    public String toString() {\n",
    "        return \"Name: \" + this.name;\n",
    "    }\n",
    "    \n",
    "    public int compareTo(Object other) throws IllegalArgumentException {\n",
    "        if (!(other instanceof Student)) {\n",
    "            throw new IllegalArgumentException();\n",
    "        }\n",
    "        \n",
    "        return (int) (this.gpa - ((Student)other).gpa);\n",
    "    }\n",
    "    \n",
    "    public boolean equals(Object other) {\n",
    "        if (!(other instanceof Student)) {\n",
    "            return false;\n",
    "        }\n",
    "        return this.studentID == ((Student)other).studentID;\n",
    "    }\n",
    "    \n",
    "    \n",
    "}\n",
    "\n",
    "\n",
    "String name = \"Adam\";\n",
    "Student s1 = new Student(name);\n",
    "String x = s1.getName();\n",
    "System.out.println(s1);"
   ]
  },
  {
   "cell_type": "code",
   "execution_count": null,
   "metadata": {},
   "outputs": [],
   "source": [
    "int[] a = new int[5];\n",
    "a[0] = 4;\n",
    "a.length // length of a\n",
    "for (int i = 0; i < a.length; i++) {\n",
    "    // do something to a[i]\n",
    "}\n",
    "\n",
    "String[] strings = new String[5];\n",
    "string[0]; // will be null\n",
    "string[0] = \"hi\"; \n",
    "\n",
    "int[][] grid = new int[2][3];\n",
    "// {{1, 1, 1}, {2, 3, 1}}\n",
    "\n",
    "for (int r = 0; r < grid.length; r++) {\n",
    "    for (int c= 0; c < grid[r].length; c++) {\n",
    "        // do something with grid[r][c]\n",
    "    }\n",
    "}\n"
   ]
  }
 ],
 "metadata": {
  "kernelspec": {
   "display_name": "Java",
   "language": "java",
   "name": "java"
  },
  "language_info": {
   "codemirror_mode": "java",
   "file_extension": ".java",
   "mimetype": "text/x-java-source",
   "name": "Java",
   "pygments_lexer": "java",
   "version": "9.0.1+11"
  }
 },
 "nbformat": 4,
 "nbformat_minor": 2
}

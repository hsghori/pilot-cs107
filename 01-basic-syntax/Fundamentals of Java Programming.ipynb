{
 "cells": [
  {
   "cell_type": "markdown",
   "metadata": {},
   "source": [
    "# How Does a Computer Work?\n",
    "\n",
    "In broad terms, a computer is an extremely complex circuit that is\n",
    "driven by \\\"binary inputs\\\". A user feeds in input as either 0 (no\n",
    "power) or 1 (power), which when done correctly, cause the computer to\n",
    "perform specific actions. These combinations of 0s and 1s are often\n",
    "called binary code or machine language and are the only language a\n",
    "computer truly understands.\\\n",
    "A computer processes a single machine instruction in one \"cycle\" - computer speed is measured in Hz or \n",
    "cycles per second. Modern\n",
    "personal computers run at speeds of around $3 GHz$ or $3 \\times 10^9$\n",
    "cycles per second. It's this extraordinary speed that makes computers so\n",
    "valuable. \n",
    "\n",
    "## What is a Programming Language?\n",
    "\n",
    "A major problem with computers is that machine language is extremely\n",
    "difficult for a human to read and write. So over the years we have\n",
    "developed **programming languages** which, for the most part, are\n",
    "designed to bridge the gap between natural human language and machine\n",
    "language. A programming language is something that a human can easily\n",
    "read and write, and that can be efficiently converted into machine\n",
    "code.\\\n",
    "There are thousands of different programming languages in existence -\n",
    "most are not in common use. This website\n",
    "<http://www.99-bottles-of-beer.net/abc.html> has a list of over 500\n",
    "programming languages with a program that prints the song \\\"99 bottles\n",
    "of beer\\\" written in each language. All of these languages have\n",
    "different properties and use cases - and there are entire classes and\n",
    "books on programming language theory. Here we'll just discuss the\n",
    "basics.\n",
    "\n",
    "## High Level vs Low Level\n",
    "\n",
    "A **high level** language is a language that's closer to natural\n",
    "language than machine code. High level languages are easier to read by\n",
    "humans, have more layers and safeguards between the programmer and the\n",
    "processor, and are relatively slow. High level languages are very\n",
    "popular for developing user level software software - websites and apps,\n",
    "research and quick prototyping, and for tasks that don't require\n",
    "exceptionally fast performance.\\\n",
    "A **low level** language is a language that's closer to machine code\n",
    "than natural language. Low level languages are more difficult for humans\n",
    "to read and have less layers and safeguards between the programmer and\n",
    "the processor - this means it's easier for a programmer to break the\n",
    "processor using a low level language. Low level languages are also\n",
    "relatively fast compared to high level languages. Low level languages\n",
    "are popular for designing systems level software - device drivers,\n",
    "operating systems, embedded systems, etc - and for tasks that require\n",
    "exceptionally fast performance.\n",
    "\n",
    "## Compiled vs Interpreted\n",
    "\n",
    "A **compiled language** is a language that is converted directly to\n",
    "machine code then run by the processor. This conversion step is handled\n",
    "by a **compiler** and is initially slow. However, the machine code runs\n",
    "relatively quickly. Additionally, compiled programs are less portable -\n",
    "they have to be recompiled for different architectures and more secure\n",
    "since reconstructing the source code from the binary files is\n",
    "difficult.\\\n",
    "An **interpreted language** is a language that's converted to machine\n",
    "code and run line by line during run time. That is, when I run an\n",
    "interpreted language, the first line is converted to machine code and\n",
    "run by the **interpreter** then the second line is compiled and run and\n",
    "so on. These languages don't have a slow compilation step, but the\n",
    "overall program runtime is slower (since the conversions happened during\n",
    "runtime). Additionally, interpreted programs are more portable since the\n",
    "interpreters are built to convert the source code based on architecture,\n",
    "and they are less secure since the source code is shipped out as part of\n",
    "the software.\n",
    "\n",
    "## Java\n",
    "\n",
    "Java is a multi-purpose programming language developed by Sun\n",
    "Microsystems (bought by Oracle) in 1995. It is the most used programming\n",
    "language in the world. Java is considered a relatively high level\n",
    "language and is a hybrid compiled / interpreted language. Java source\n",
    "code is compiled into Java byte code which is then run on top of a Java\n",
    "Virtual Machine (JVM). The JVMs are architecture specific, but the byte\n",
    "code is not which means Java can be shipped out in its compiled state.\n",
    "This means that Java source code can run on any platform and is faster\n",
    "than a standard interpreted language - Java is still slower than pure\n",
    "compiled languages like C and C++."
   ]
  },
  {
   "cell_type": "markdown",
   "metadata": {},
   "source": [
    "# Basic Java Syntax\n",
    "\n",
    "The Hello World program is traditionally the first program you will learn to write in any language."
   ]
  },
  {
   "cell_type": "code",
   "execution_count": 5,
   "metadata": {},
   "outputs": [
    {
     "name": "stdout",
     "output_type": "stream",
     "text": [
      "Hello World\n"
     ]
    }
   ],
   "source": [
    "public class Hello {\n",
    "\n",
    "   public static void main(String[] args) {\n",
    "        System.out.println(\"Hello World\");\n",
    "   }\n",
    "}\n",
    "\n",
    "// ignore the lines below\n",
    "String[] args = {};\n",
    "Hello.main(args);"
   ]
  },
  {
   "cell_type": "markdown",
   "metadata": {},
   "source": [
    "The first line defines a Java **class** named \"Hello\". The entire class is contained in the first set of curly brackets. \n",
    "\n",
    "The second line is the **header** for the **main method**. The main method is the place where the computer begins running the program. The entire method is contained within the second set of curly brackets. \n",
    "\n",
    "The third line is a print command."
   ]
  },
  {
   "cell_type": "markdown",
   "metadata": {},
   "source": [
    "### Printing\n",
    "\n",
    "There are three major ways to print output to the screen in Java."
   ]
  },
  {
   "cell_type": "markdown",
   "metadata": {},
   "source": [
    "`System.out.println(\"Hello World\");`\n",
    "\n",
    "Prints the argument (in this case the string Hello World, but could\n",
    "be an integer, character, float, double, etc) and moves the cursor\n",
    "to a new line.\n"
   ]
  },
  {
   "cell_type": "code",
   "execution_count": 6,
   "metadata": {},
   "outputs": [
    {
     "name": "stdout",
     "output_type": "stream",
     "text": [
      "Hello\n",
      "World\n"
     ]
    }
   ],
   "source": [
    "System.out.println(\"Hello\");\n",
    "System.out.println(\"World\");"
   ]
  },
  {
   "cell_type": "markdown",
   "metadata": {},
   "source": [
    "`System.out.print(\"Hello World\");`\n",
    "\n",
    "Prints the argument and doesn't move the cursor to a new line."
   ]
  },
  {
   "cell_type": "code",
   "execution_count": 7,
   "metadata": {},
   "outputs": [
    {
     "name": "stdout",
     "output_type": "stream",
     "text": [
      "HelloWorld"
     ]
    }
   ],
   "source": [
    "System.out.print(\"Hello\");\n",
    "System.out.print(\"World\");"
   ]
  },
  {
   "cell_type": "markdown",
   "metadata": {},
   "source": [
    "`System.out.printf(\"%s\", \"Hello World\");`\n",
    "\n",
    "Prints a string containing format commands (the first argument) and doesn't move the cursor to a new line. A formatted command has the structure: `%\\[flags\\]\\[width\\]\\[.precision\\]conversion-character`. \n",
    "\n",
    "See this [cheat sheet](http://web.cerritos.edu/jwilson/SitePages/java_language_resources/Java_printf_method_quick_reference.pdf) for a quick reference to the different printf commands."
   ]
  },
  {
   "cell_type": "code",
   "execution_count": 10,
   "metadata": {},
   "outputs": [
    {
     "name": "stdout",
     "output_type": "stream",
     "text": [
      "Hello World"
     ]
    },
    {
     "data": {
      "text/plain": [
       "java.io.PrintStream@2d8f65a4"
      ]
     },
     "execution_count": 10,
     "metadata": {},
     "output_type": "execute_result"
    }
   ],
   "source": [
    "System.out.printf(\"%s\", \"Hello World\");"
   ]
  },
  {
   "cell_type": "markdown",
   "metadata": {},
   "source": [
    "## Variables\n",
    "\n",
    "A variable is a container or storage location for a value. These\n",
    "variables only exist while the program is running. A variable has three\n",
    "components, a type, name and value."
   ]
  },
  {
   "cell_type": "code",
   "execution_count": 28,
   "metadata": {},
   "outputs": [
    {
     "name": "stdout",
     "output_type": "stream",
     "text": [
      "the lucky number is 13\n",
      "and twice that is 26\n"
     ]
    }
   ],
   "source": [
    "int luckyNumber = 13;\n",
    "System.out.println(\"the lucky number is \" + luckyNumber);\n",
    "System.out.println(\"and twice that is \" + 2*luckyNumber);"
   ]
  },
  {
   "cell_type": "markdown",
   "metadata": {},
   "source": [
    "In line 1 we define a variable (`luckyNumber`) as an integer (`int`) which\n",
    "we can call later in the program."
   ]
  },
  {
   "cell_type": "markdown",
   "metadata": {},
   "source": [
    "### Data Types\n",
    "\n",
    "Java technically has an infinite number of data types since Java\n",
    "programmers can create their own data types. However, all Java data\n",
    "types are build around a set of basic, **primitive** data types."
   ]
  },
  {
   "cell_type": "markdown",
   "metadata": {},
   "source": [
    "Booleans store a single bit of information. They store either a \"true\" or a \"false\" value. "
   ]
  },
  {
   "cell_type": "code",
   "execution_count": 11,
   "metadata": {},
   "outputs": [],
   "source": [
    "boolean b1 = true;\n",
    "boolean b2 = false;"
   ]
  },
  {
   "cell_type": "markdown",
   "metadata": {},
   "source": [
    "Chars store a single unicode character - meaning they store a single letter that would make up text (that could be a letter, digit, or special character like a newline or a space)."
   ]
  },
  {
   "cell_type": "code",
   "execution_count": 13,
   "metadata": {},
   "outputs": [],
   "source": [
    "char c1 = 'a';\n",
    "char c2 = '1';\n",
    "char c3 = '\\n'; // a newline character"
   ]
  },
  {
   "cell_type": "markdown",
   "metadata": {},
   "source": [
    "Bytes, shorts, ints, and longs store various integer sizes. Typically we use ints for integers."
   ]
  },
  {
   "cell_type": "code",
   "execution_count": 25,
   "metadata": {},
   "outputs": [],
   "source": [
    "byte b1 = 0; \n",
    "byte b2 = 127"
   ]
  },
  {
   "cell_type": "code",
   "execution_count": 14,
   "metadata": {},
   "outputs": [],
   "source": [
    "short s1 = 0;\n",
    "short s2 = 32767;\n",
    "short s3 = -10;"
   ]
  },
  {
   "cell_type": "code",
   "execution_count": 15,
   "metadata": {},
   "outputs": [],
   "source": [
    "int i1 = 0; \n",
    "int i2 = 2147483647;\n",
    "int i3 = -20;"
   ]
  },
  {
   "cell_type": "code",
   "execution_count": 16,
   "metadata": {},
   "outputs": [],
   "source": [
    "long l1 = 0;\n",
    "long l2 = 2147483647;\n",
    "long l3 = -10;"
   ]
  },
  {
   "cell_type": "markdown",
   "metadata": {},
   "source": [
    "Floats and doubles store various sizes of floating point numbers (decimal numbers. Typically we use doubles for floating point numbers. "
   ]
  },
  {
   "cell_type": "code",
   "execution_count": 22,
   "metadata": {},
   "outputs": [],
   "source": [
    "float f1 = 1.0000f;\n",
    "float f2 = 100.1234f;\n",
    "float f3 = -25.98734f;"
   ]
  },
  {
   "cell_type": "code",
   "execution_count": 24,
   "metadata": {},
   "outputs": [],
   "source": [
    "double d1 = 1.00;\n",
    "double d2 = 765.324;\n",
    "double d3 = -99.322;"
   ]
  },
  {
   "cell_type": "markdown",
   "metadata": {},
   "source": [
    "### Strings\n",
    "\n",
    "Java - and most other programming language - have a more complex data\n",
    "type used to hold text. These are called **Strings**. Strings are\n",
    "\\\"strings' of characters - essentially the representation of text in a\n",
    "computer program. Strings are an example of a **non-primitive** data\n",
    "type. A non-primitive data type is a data type that is made up of\n",
    "primitive (and other non-primitive data types). Non-primitive data types\n",
    "are more complex than primitives and are named with their first letter\n",
    "capitalized. "
   ]
  },
  {
   "cell_type": "code",
   "execution_count": 45,
   "metadata": {},
   "outputs": [],
   "source": [
    "String s = \"Hello world!\";"
   ]
  },
  {
   "cell_type": "markdown",
   "metadata": {},
   "source": [
    "### Type casting\n",
    "\n",
    "You can convert values between types (if they are compatible types)."
   ]
  },
  {
   "cell_type": "code",
   "execution_count": 44,
   "metadata": {},
   "outputs": [
    {
     "name": "stdout",
     "output_type": "stream",
     "text": [
      "10 to double -> 10.0\n",
      "1.5 to int -> 1\n",
      "10 to char -> d\n"
     ]
    }
   ],
   "source": [
    "int x = 10;\n",
    "double y = 1.5;\n",
    "int z = 100;\n",
    "\n",
    "System.out.println(\"10 to double -> \" + (double) x);\n",
    "System.out.println(\"1.5 to int -> \" + (int) y);\n",
    "System.out.println(\"10 to char -> \" + (char) z);"
   ]
  },
  {
   "cell_type": "markdown",
   "metadata": {},
   "source": [
    "### Keyboard Input\n",
    "\n",
    "Taking in user input is a crucial part of a computer program since we usually want our programs to make computations and decisions based on user input."
   ]
  },
  {
   "cell_type": "code",
   "execution_count": 33,
   "metadata": {},
   "outputs": [
    {
     "name": "stdout",
     "output_type": "stream",
     "text": [
      "Please enter your lucky number the lucky number is 12\n",
      "And twice that is 24\n"
     ]
    }
   ],
   "source": [
    "import java.util.Scanner; \n",
    "\n",
    "public class Variable {\n",
    "\n",
    "   public static void main(String[] args) {\n",
    "      Scanner keyboard = new Scanner(System.in); \n",
    "      System.out.print(\"Please enter your lucky number \");\n",
    "      int luckyNumber = keyboard.nextInt();\n",
    "      System.out.println(\"the lucky number is \" + luckyNumber);\n",
    "      System.out.println(\"And twice that is \" + 2*luckyNumber);\n",
    "    }\n",
    "}\n",
    "\n",
    "// simulates typing \"12\" as input\n",
    "String data = \"12\";\n",
    "System.setIn(new ByteArrayInputStream(data.getBytes()));\n",
    "\n",
    "// ignore the lines below\n",
    "String[] args = {};\n",
    "Variable.main(args);"
   ]
  },
  {
   "cell_type": "markdown",
   "metadata": {},
   "source": [
    "Line 1 imports the Scanner class from the java library.\\\n",
    "Line 4 defines a new variable \\\"keyboard\\\" which is a variable of type Scanner.\\\n",
    "Line 6 defines a new integer as the next integer entered by the user.\n",
    "This vari able can be called later on in the program.\\\n",
    "You can think of a Scanner as a pipe that we can use to read input and files from different sources. When we set up a Scanner as we did above, the pipe is connected to the Computer's \"standard input\" (aka the keyboard) and will read input at that location. \n",
    "The Scanner object has a few built in methods that can be used to take\n",
    "in specific types of input. If we declare\n",
    "`Scanner keyboard = new Scanner(System.in);`:\n",
    "-   `keyboard.next();`\\\n",
    "    Returns the next word (String up until the next whitespace or\n",
    "    newline) entered at the console.\n",
    "-   `keyboard.nextLine();`\\\n",
    "    Returns the next line (String up until the next newline including\n",
    "    any other whitespace) entered at the console.\n",
    "-   `keyboard.nextInt();`\\\n",
    "    Returns the next integer entered at the console.\n",
    "-   `keyboard.nextDouble();`\\\n",
    "    Returns the next double entered at the console.\n",
    "-   `keyboard.hasNext();`\\\n",
    "    Returns whether or not there is an unprocessed word entered at the\n",
    "    console.\n",
    "-   `keyboard.hasNextLine();`\\\n",
    "    Returns whether or not there is an unprocessed line entered at the\n",
    "    console.\n",
    "\n",
    "For more Scanner commands see [the documentation](https://docs.oracle.com/javase/7/docs/api/java/util/Scanner.html)."
   ]
  },
  {
   "cell_type": "markdown",
   "metadata": {},
   "source": [
    "## Basic Value Manipulation\n",
    "\n",
    "One of the main purposes of computers is to perform calculations more\n",
    "quickly than humans. Java has many operations which can be used to\n",
    "perform arithmetic, manipulate data, etc.\n",
    "\n",
    "### Arithmetic Operations\n",
    "\n",
    "The arithmetic operations in Java are\n",
    "\n",
    "-   \\+ addition\n",
    "-   \\- subtraction\n",
    "-   \\* multiplication\n",
    "-   / division\n",
    "-   \\% modulus (remainder)"
   ]
  },
  {
   "cell_type": "code",
   "execution_count": 72,
   "metadata": {},
   "outputs": [],
   "source": [
    "int x = 10;\n",
    "int y = 5;"
   ]
  },
  {
   "cell_type": "code",
   "execution_count": 73,
   "metadata": {},
   "outputs": [
    {
     "data": {
      "text/plain": [
       "15"
      ]
     },
     "execution_count": 73,
     "metadata": {},
     "output_type": "execute_result"
    }
   ],
   "source": [
    "x + y;"
   ]
  },
  {
   "cell_type": "code",
   "execution_count": 74,
   "metadata": {},
   "outputs": [
    {
     "data": {
      "text/plain": [
       "5"
      ]
     },
     "execution_count": 74,
     "metadata": {},
     "output_type": "execute_result"
    }
   ],
   "source": [
    "x - y;"
   ]
  },
  {
   "cell_type": "code",
   "execution_count": 75,
   "metadata": {},
   "outputs": [
    {
     "data": {
      "text/plain": [
       "50"
      ]
     },
     "execution_count": 75,
     "metadata": {},
     "output_type": "execute_result"
    }
   ],
   "source": [
    "x * y;"
   ]
  },
  {
   "cell_type": "code",
   "execution_count": 76,
   "metadata": {},
   "outputs": [
    {
     "data": {
      "text/plain": [
       "2"
      ]
     },
     "execution_count": 76,
     "metadata": {},
     "output_type": "execute_result"
    }
   ],
   "source": [
    "x / y;"
   ]
  },
  {
   "cell_type": "code",
   "execution_count": 77,
   "metadata": {},
   "outputs": [
    {
     "data": {
      "text/plain": [
       "0"
      ]
     },
     "execution_count": 77,
     "metadata": {},
     "output_type": "execute_result"
    }
   ],
   "source": [
    "x % y;"
   ]
  },
  {
   "cell_type": "markdown",
   "metadata": {},
   "source": [
    "### Integer Division\n",
    "\n",
    "When a value or variable is stored a certain amount of memory is\n",
    "allocated based on the type. Thus integers, doubles, floats, strings,\n",
    "etc cannot be simply interchanged. This doesn't present as a problem\n",
    "when undergoing addition, subtraction, or multiplication since adding,\n",
    "subtracting, and multiplying two integers will yield an integer. However\n",
    "when dividing integers we encounter a problem. Dividing two integers can\n",
    "yield a decimal number which does not \"fit\" in the memory allocated\n",
    "for the integers. Thus the computer truncates the number at the decimal\n",
    "point to ensure that the new number will be stored.\n",
    "\n",
    "Thus if we have two integers 3 and 7. According to the compiler `7 / 3 = 2`\n",
    "However if we want to obtain the \"real\" answer we can cast one of the operands to a double which tells the compiler that the result should be a double as well."
   ]
  },
  {
   "cell_type": "code",
   "execution_count": 39,
   "metadata": {},
   "outputs": [
    {
     "name": "stdout",
     "output_type": "stream",
     "text": [
      "x / y = 2\n",
      "x / (double) y = 2.3333333333333335\n"
     ]
    }
   ],
   "source": [
    "int x = 7;\n",
    "int y = 3;\n",
    "\n",
    "System.out.println(\"x / y = \" + (x / y));\n",
    "\n",
    "System.out.println(\"x / (double) y = \" + (x / (double) y));"
   ]
  },
  {
   "cell_type": "markdown",
   "metadata": {},
   "source": [
    "### The Math Library\n",
    "\n",
    "Java also has a built in Math package for more complicated mathematical\n",
    "operations. You're not expected to know the entirity of the Math\n",
    "package, but there are a few methods which you should know off the top\n",
    "of your head. Note that while I'm writing these functions with a very\n",
    "specific set of input arguments, there are equivalent functions for\n",
    "variables of different data types. For example there is a\n",
    "`Math.abs(int a)`, a `Math.abs(double a)`, a `Math.abs(long a)`, etc all\n",
    "of which return the absolute value of the argument / parameter (a).\n",
    "-   `Math.pow(int a, int b);`\\\n",
    "    Returns $a^b$.\n",
    "-   `Math.sqrt(int a);`\\\n",
    "    Returns $\\sqrt(a)$.\n",
    "-   `Math.log(double a);`\\\n",
    "    Returns $\\log_{e}(a)$.\n",
    "-   `Math.log10(double a);`\\\n",
    "    Returns $\\log_{10}(a)$.\n",
    "-   `Math.max(int a, int b);`\\\n",
    "    Returns the larger of the two parameters.\n",
    "-   `Math.min(int a, int b);`\\\n",
    "    Returns the smaller of the two parameters.\n",
    "-   `Math.abs(double a);`\\\n",
    "    Returns the absolute value of the parameter.\n",
    "-   `Math.floor(double a);`\\\n",
    "    Returns the largest integer less than the parameter. For example if\n",
    "    `double a = 4.5`, `Math.floor(a)` returns 4.0.\n",
    "-   `Math.ceil(double a);`\\\n",
    "    Returns the smallest integer greater than the parameter. For example\n",
    "    if `double a = 4.5`, `Math.ceil(a)` returns 5.0.\n",
    "\n",
    "A full list of Math methods can be found in [the documentation](https://docs.oracle.com/javase/8/docs/api/java/lang/Math.html)."
   ]
  },
  {
   "cell_type": "code",
   "execution_count": 69,
   "metadata": {},
   "outputs": [],
   "source": [
    "double w = 1.5;\n",
    "int x = 2;\n",
    "int y = 10;\n",
    "int z = -12;"
   ]
  },
  {
   "cell_type": "code",
   "execution_count": 59,
   "metadata": {},
   "outputs": [
    {
     "data": {
      "text/plain": [
       "1024.0"
      ]
     },
     "execution_count": 59,
     "metadata": {},
     "output_type": "execute_result"
    }
   ],
   "source": [
    "Math.pow(x, y)"
   ]
  },
  {
   "cell_type": "code",
   "execution_count": 60,
   "metadata": {},
   "outputs": [
    {
     "data": {
      "text/plain": [
       "3.1622776601683795"
      ]
     },
     "execution_count": 60,
     "metadata": {},
     "output_type": "execute_result"
    }
   ],
   "source": [
    "Math.sqrt(y);"
   ]
  },
  {
   "cell_type": "code",
   "execution_count": 62,
   "metadata": {},
   "outputs": [
    {
     "data": {
      "text/plain": [
       "2.302585092994046"
      ]
     },
     "execution_count": 62,
     "metadata": {},
     "output_type": "execute_result"
    }
   ],
   "source": [
    "Math.log(y);"
   ]
  },
  {
   "cell_type": "code",
   "execution_count": 63,
   "metadata": {},
   "outputs": [
    {
     "data": {
      "text/plain": [
       "1.0"
      ]
     },
     "execution_count": 63,
     "metadata": {},
     "output_type": "execute_result"
    }
   ],
   "source": [
    "Math.log10(y);"
   ]
  },
  {
   "cell_type": "code",
   "execution_count": 64,
   "metadata": {},
   "outputs": [
    {
     "data": {
      "text/plain": [
       "10"
      ]
     },
     "execution_count": 64,
     "metadata": {},
     "output_type": "execute_result"
    }
   ],
   "source": [
    "Math.max(x, y);"
   ]
  },
  {
   "cell_type": "code",
   "execution_count": 65,
   "metadata": {},
   "outputs": [
    {
     "data": {
      "text/plain": [
       "2"
      ]
     },
     "execution_count": 65,
     "metadata": {},
     "output_type": "execute_result"
    }
   ],
   "source": [
    "Math.min(x, y);"
   ]
  },
  {
   "cell_type": "code",
   "execution_count": 66,
   "metadata": {},
   "outputs": [
    {
     "data": {
      "text/plain": [
       "12"
      ]
     },
     "execution_count": 66,
     "metadata": {},
     "output_type": "execute_result"
    }
   ],
   "source": [
    "Math.abs(z);"
   ]
  },
  {
   "cell_type": "code",
   "execution_count": 67,
   "metadata": {},
   "outputs": [
    {
     "data": {
      "text/plain": [
       "1.0"
      ]
     },
     "execution_count": 67,
     "metadata": {},
     "output_type": "execute_result"
    }
   ],
   "source": [
    "Math.floor(w);"
   ]
  },
  {
   "cell_type": "code",
   "execution_count": 68,
   "metadata": {},
   "outputs": [
    {
     "data": {
      "text/plain": [
       "2.0"
      ]
     },
     "execution_count": 68,
     "metadata": {},
     "output_type": "execute_result"
    }
   ],
   "source": [
    "Math.ceil(w);"
   ]
  },
  {
   "cell_type": "markdown",
   "metadata": {},
   "source": [
    "### String Manipulation\n",
    "\n",
    "Java maintains a list of String manipulation methods on their website.\n",
    "If we have a `String myString = \"This is my string!\";`:\n",
    "-   `myString.charAt(2);`\\\n",
    "    Returns the character at index 2 (3rd character) in myString.\n",
    "-   `myString.substring(5);`\\\n",
    "    Returns the string from index 5 till the end.\n",
    "-   `myString.substring(1, 5);`\\\n",
    "    Returns the string from index 1 (inclusive) to index 5 (exclusive).\n",
    "-   `myString.toLowerCase();`\\\n",
    "    Converts the string to lower case.\n",
    "-   `myString.toUpperCase();`\\\n",
    "    Converts the string to upper case.\n",
    "-   `myString.contains(str);`\\\n",
    "    Returns true if myString contains str, false if not.\n",
    "-   `myString.indexOf(str);`\\\n",
    "    Returns the index of the first incidence of the string str in\n",
    "    myString or -1 if str is not in myString. Can also be called on a\n",
    "    character.\n",
    "-   `myString.length();`\\\n",
    "    Returns the length of the string.\n",
    "\n",
    "A full list of String methods can be found at\n",
    "<http://docs.oracle.com/javase/7/docs/api/java/lang/String.html?is-external=true>.\n"
   ]
  },
  {
   "cell_type": "code",
   "execution_count": 50,
   "metadata": {},
   "outputs": [],
   "source": [
    "String myString = \"This is my string\";"
   ]
  },
  {
   "cell_type": "code",
   "execution_count": 51,
   "metadata": {},
   "outputs": [
    {
     "data": {
      "text/plain": [
       "'i'"
      ]
     },
     "execution_count": 51,
     "metadata": {},
     "output_type": "execute_result"
    }
   ],
   "source": [
    "myString.charAt(2);"
   ]
  },
  {
   "cell_type": "code",
   "execution_count": 52,
   "metadata": {},
   "outputs": [
    {
     "data": {
      "text/plain": [
       "\"is my string\""
      ]
     },
     "execution_count": 52,
     "metadata": {},
     "output_type": "execute_result"
    }
   ],
   "source": [
    "myString.substring(5);"
   ]
  },
  {
   "cell_type": "code",
   "execution_count": 53,
   "metadata": {},
   "outputs": [
    {
     "data": {
      "text/plain": [
       "\"is \""
      ]
     },
     "execution_count": 53,
     "metadata": {},
     "output_type": "execute_result"
    }
   ],
   "source": [
    "myString.substring(2, 5);"
   ]
  },
  {
   "cell_type": "code",
   "execution_count": 54,
   "metadata": {},
   "outputs": [
    {
     "data": {
      "text/plain": [
       "\"this is my string\""
      ]
     },
     "execution_count": 54,
     "metadata": {},
     "output_type": "execute_result"
    }
   ],
   "source": [
    "myString.toLowerCase();"
   ]
  },
  {
   "cell_type": "code",
   "execution_count": 55,
   "metadata": {},
   "outputs": [
    {
     "data": {
      "text/plain": [
       "\"THIS IS MY STRING\""
      ]
     },
     "execution_count": 55,
     "metadata": {},
     "output_type": "execute_result"
    }
   ],
   "source": [
    "myString.toUpperCase();"
   ]
  },
  {
   "cell_type": "code",
   "execution_count": 56,
   "metadata": {},
   "outputs": [
    {
     "data": {
      "text/plain": [
       "true"
      ]
     },
     "execution_count": 56,
     "metadata": {},
     "output_type": "execute_result"
    }
   ],
   "source": [
    "myString.contains(\"str\");"
   ]
  },
  {
   "cell_type": "code",
   "execution_count": 57,
   "metadata": {},
   "outputs": [
    {
     "data": {
      "text/plain": [
       "11"
      ]
     },
     "execution_count": 57,
     "metadata": {},
     "output_type": "execute_result"
    }
   ],
   "source": [
    "myString.indexOf(\"str\");"
   ]
  },
  {
   "cell_type": "code",
   "execution_count": 58,
   "metadata": {},
   "outputs": [
    {
     "data": {
      "text/plain": [
       "17"
      ]
     },
     "execution_count": 58,
     "metadata": {},
     "output_type": "execute_result"
    }
   ],
   "source": [
    "myString.length();"
   ]
  },
  {
   "cell_type": "markdown",
   "metadata": {},
   "source": [
    "# Practice Problems\n",
    "\n",
    "1. Write a Java program to print 'Hello' on screen and then print your name on a separate line.\n",
    "2. Write a Java program that takes two numbers as input and display the product of two numbers.\n",
    "3. Write a Java program that takes the radius of a circle as input and prints the area and perimeter of the circle.\n",
    "4. Write a Java program that takes in an integer n, and prints true if n is within 10 of 100.\n",
    "5. Write a Java program that takes in a string and prints out a new string where the first and last chars have been exchanged.\n",
    "6. Write a Java program that takes in two strings, an \"out\" string of length 4, such as \"<<>>\", and a word, prints a new string where the word is in the middle of the out string, e.g. `\"<<word>>\"`."
   ]
  },
  {
   "cell_type": "code",
   "execution_count": null,
   "metadata": {},
   "outputs": [],
   "source": []
  }
 ],
 "metadata": {
  "kernelspec": {
   "display_name": "Java",
   "language": "java",
   "name": "java"
  },
  "language_info": {
   "codemirror_mode": "java",
   "file_extension": ".java",
   "mimetype": "text/x-java-source",
   "name": "Java",
   "pygments_lexer": "java",
   "version": "9.0.1+11"
  }
 },
 "nbformat": 4,
 "nbformat_minor": 2
}
